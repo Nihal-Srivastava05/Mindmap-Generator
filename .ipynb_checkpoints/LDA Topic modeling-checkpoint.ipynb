{
 "cells": [
  {
   "cell_type": "markdown",
   "id": "023beb86",
   "metadata": {},
   "source": [
    "# LDA Topic modeling\n",
    "\n",
    "LDA stands for Latent Dirichlet allocation, It is a generative statistical model that allows sets of observations to be explained by unobserved groups that explain why some parts of the data are similar. It is an unsupervised learning algorithm that attempts to describe a set of observations as a mixture of distinct categories"
   ]
  },
  {
   "cell_type": "code",
   "execution_count": 1,
   "id": "4d6040db",
   "metadata": {},
   "outputs": [],
   "source": [
    "import numpy as np\n",
    "import json\n",
    "import glob"
   ]
  },
  {
   "cell_type": "code",
   "execution_count": 2,
   "id": "4b7c8911",
   "metadata": {},
   "outputs": [],
   "source": [
    "import gensim\n",
    "import gensim.corpora as corpora\n",
    "from gensim.utils import simple_preprocess\n",
    "from gensim.models import CoherenceModel"
   ]
  },
  {
   "cell_type": "code",
   "execution_count": 3,
   "id": "2b2d324e",
   "metadata": {},
   "outputs": [],
   "source": [
    "import nltk\n",
    "from nltk.corpus import stopwords\n",
    "from nltk.stem import WordNetLemmatizer"
   ]
  },
  {
   "cell_type": "code",
   "execution_count": 4,
   "id": "5b221024",
   "metadata": {},
   "outputs": [],
   "source": [
    "from itertools import chain"
   ]
  },
  {
   "cell_type": "markdown",
   "id": "bf4425b9",
   "metadata": {},
   "source": [
    "## Preparing the data"
   ]
  },
  {
   "cell_type": "code",
   "execution_count": 5,
   "id": "df4daf0b",
   "metadata": {},
   "outputs": [],
   "source": [
    "def load_json_data(file):\n",
    "    with open(file, 'r', encoding='utf-8') as f:\n",
    "        data = json.load(f)\n",
    "    return data\n",
    "\n",
    "def write_json_data(file, data):\n",
    "    with open(file, 'w', encoding='utf-8') as f:\n",
    "        json.dump(data, f, indent=4)"
   ]
  },
  {
   "cell_type": "code",
   "execution_count": 6,
   "id": "3ff510dc",
   "metadata": {},
   "outputs": [],
   "source": [
    "stop_words = stopwords.words('english')"
   ]
  },
  {
   "cell_type": "code",
   "execution_count": 7,
   "id": "6d0474ef",
   "metadata": {},
   "outputs": [],
   "source": [
    "# stop_words"
   ]
  },
  {
   "cell_type": "code",
   "execution_count": 8,
   "id": "2c1052a2",
   "metadata": {},
   "outputs": [],
   "source": [
    "with open('./sample_text.txt') as f:\n",
    "    data = f.readlines()"
   ]
  },
  {
   "cell_type": "code",
   "execution_count": 9,
   "id": "81fb71db",
   "metadata": {},
   "outputs": [],
   "source": [
    "sentences = nltk.sent_tokenize(data[0])"
   ]
  },
  {
   "cell_type": "code",
   "execution_count": 10,
   "id": "c76295e1",
   "metadata": {},
   "outputs": [
    {
     "data": {
      "text/plain": [
       "'artificial intelligence (AI), the ability of a digital computer or computer-controlled robot to perform tasks commonly associated with intelligent beings.'"
      ]
     },
     "execution_count": 10,
     "metadata": {},
     "output_type": "execute_result"
    }
   ],
   "source": [
    "sentences[0]"
   ]
  },
  {
   "cell_type": "code",
   "execution_count": 11,
   "id": "1ed39e9d",
   "metadata": {},
   "outputs": [],
   "source": [
    "def lemmatization(texts, stop_words ,allowed_postags=['NN', 'NNS', 'NNP', 'NNPS', 'RB', 'RBR', 'RBS', 'VB', 'VBD', 'VBG', 'VBN', 'VBP', 'VBZ', 'JJ', 'JJR', 'JJS']):\n",
    "    #Default Allowed postags are nouns, adjectives, verbs, adverb\n",
    "    texts_out = []\n",
    "    lemmatizer = WordNetLemmatizer()\n",
    "    for text in texts:\n",
    "        new_text = []\n",
    "        words = nltk.word_tokenize(text)\n",
    "        tagged_words = nltk.pos_tag(words)\n",
    "        for tags in tagged_words:\n",
    "            if((tags[0] not in stop_words) and (tags[1] in allowed_postags)):\n",
    "                new_text.append(lemmatizer.lemmatize(tags[0]))\n",
    "        final_text = \" \".join(new_text)\n",
    "        texts_out.append(final_text)\n",
    "    \n",
    "    return texts_out"
   ]
  },
  {
   "cell_type": "code",
   "execution_count": 12,
   "id": "c4fa3a89",
   "metadata": {},
   "outputs": [],
   "source": [
    "def group_sentences(sentences, group_len = 3):\n",
    "    new_sentences = []\n",
    "    for idx in range(0, len(sentences), group_len):\n",
    "        new_sent = ''\n",
    "        i = idx\n",
    "        while i<len(sentences) and i<idx+3:\n",
    "            new_sent += sentences[i]\n",
    "            i += 1\n",
    "        new_sentences.append(new_sent)\n",
    "    return new_sentences"
   ]
  },
  {
   "cell_type": "code",
   "execution_count": 13,
   "id": "7a4646ee",
   "metadata": {},
   "outputs": [],
   "source": [
    "bigger_sentences = group_sentences(sentences)"
   ]
  },
  {
   "cell_type": "code",
   "execution_count": 14,
   "id": "ac7c5fc2",
   "metadata": {},
   "outputs": [
    {
     "data": {
      "text/plain": [
       "'artificial intelligence (AI), the ability of a digital computer or computer-controlled robot to perform tasks commonly associated with intelligent beings.The term is frequently applied to the project of developing systems endowed with the intellectual processes characteristic of humans, such as the ability to reason, discover meaning, generalize, or learn from past experience.Since the development of the digital computer in the 1940s, it has been demonstrated that computers can be programmed to carry out very complex tasksâ€”as, for example, discovering proofs for mathematical theorems or playing chessâ€”with great proficiency.'"
      ]
     },
     "execution_count": 14,
     "metadata": {},
     "output_type": "execute_result"
    }
   ],
   "source": [
    "bigger_sentences[0]"
   ]
  },
  {
   "cell_type": "code",
   "execution_count": 15,
   "id": "0a5bc628",
   "metadata": {},
   "outputs": [],
   "source": [
    "lemmatized_text = lemmatization(sentences, stop_words)"
   ]
  },
  {
   "cell_type": "code",
   "execution_count": 16,
   "id": "f037fd2a",
   "metadata": {},
   "outputs": [
    {
     "data": {
      "text/plain": [
       "'artificial intelligence AI ability digital computer computer-controlled robot perform task commonly associated intelligent being'"
      ]
     },
     "execution_count": 16,
     "metadata": {},
     "output_type": "execute_result"
    }
   ],
   "source": [
    "lemmatized_text[0]"
   ]
  },
  {
   "cell_type": "code",
   "execution_count": 17,
   "id": "e67d43b0",
   "metadata": {},
   "outputs": [],
   "source": [
    "def gen_words(texts):\n",
    "    final = []\n",
    "    for text in texts:\n",
    "        new = gensim.utils.simple_preprocess(text, deacc=True) #Deacc is used to remove accents\n",
    "        final.append(new)\n",
    "    return final"
   ]
  },
  {
   "cell_type": "code",
   "execution_count": 18,
   "id": "fa8a64a5",
   "metadata": {
    "scrolled": true
   },
   "outputs": [
    {
     "name": "stdout",
     "output_type": "stream",
     "text": [
      "['artificial', 'intelligence', 'ai', 'ability', 'digital', 'computer', 'computer', 'controlled', 'robot', 'perform', 'task', 'commonly', 'associated', 'intelligent', 'being']\n"
     ]
    }
   ],
   "source": [
    "data_words = gen_words(lemmatized_text)\n",
    "print(data_words[0])"
   ]
  },
  {
   "cell_type": "code",
   "execution_count": 19,
   "id": "868357bd",
   "metadata": {},
   "outputs": [],
   "source": [
    "id2word = corpora.Dictionary(data_words)\n",
    "\n",
    "corpus = []\n",
    "for text in data_words:\n",
    "    new = id2word.doc2bow(text)\n",
    "    corpus.append(new)"
   ]
  },
  {
   "cell_type": "code",
   "execution_count": 20,
   "id": "6cb2ea09",
   "metadata": {},
   "outputs": [
    {
     "name": "stdout",
     "output_type": "stream",
     "text": [
      "[(0, 1), (1, 1), (2, 1), (3, 1), (4, 1), (5, 1), (6, 2), (7, 1), (8, 1), (9, 1), (10, 1), (11, 1), (12, 1), (13, 1)]\n",
      "ability\n"
     ]
    }
   ],
   "source": [
    "print(corpus[0])\n",
    "print(id2word[[0][:1][0]]) #Return first word --> 0 index has word ability"
   ]
  },
  {
   "cell_type": "markdown",
   "id": "5e782353",
   "metadata": {},
   "source": [
    "## Improving the data by NLP More NLP methods"
   ]
  },
  {
   "cell_type": "markdown",
   "id": "eabe303b",
   "metadata": {},
   "source": [
    "Bigrams and Trigrams"
   ]
  },
  {
   "cell_type": "code",
   "execution_count": 21,
   "id": "c9af3b0c",
   "metadata": {},
   "outputs": [],
   "source": [
    "bigram_phrases = gensim.models.Phrases(data_words, min_count=3, threshold=25)\n",
    "trigram_phrases = gensim.models.Phrases(bigram_phrases[data_words], threshold=25)\n",
    "\n",
    "bigram = gensim.models.phrases.Phraser(bigram_phrases)\n",
    "trigram = gensim.models.phrases.Phraser(trigram_phrases)\n",
    "\n",
    "# min count is number of times the word must occur to be considered as a bigram\n",
    "# Threshold is represent a score threshold for forming the phrases , Higher number means fewer phrases"
   ]
  },
  {
   "cell_type": "code",
   "execution_count": 22,
   "id": "190c1418",
   "metadata": {},
   "outputs": [],
   "source": [
    "def make_bigrams(texts):\n",
    "    return [bigram[doc] for doc in texts]\n",
    "\n",
    "def make_trigrams(texts):\n",
    "    return [trigram[bigram[doc]] for doc in texts]"
   ]
  },
  {
   "cell_type": "code",
   "execution_count": 23,
   "id": "6d6cbdad",
   "metadata": {},
   "outputs": [],
   "source": [
    "data_bigrams = make_bigrams(data_words)\n",
    "data_bigrams_trigrams = make_trigrams(data_bigrams)"
   ]
  },
  {
   "cell_type": "code",
   "execution_count": 24,
   "id": "93ea5d21",
   "metadata": {},
   "outputs": [
    {
     "name": "stdout",
     "output_type": "stream",
     "text": [
      "['artificial_intelligence', 'ai', 'ability', 'digital', 'computer', 'computer', 'controlled', 'robot', 'perform', 'task', 'commonly', 'associated', 'intelligent', 'being']\n"
     ]
    }
   ],
   "source": [
    "print(data_bigrams_trigrams[0])"
   ]
  },
  {
   "cell_type": "markdown",
   "id": "5759b9a5",
   "metadata": {},
   "source": [
    "TF-IDF removal"
   ]
  },
  {
   "cell_type": "code",
   "execution_count": 25,
   "id": "be8e95cb",
   "metadata": {},
   "outputs": [],
   "source": [
    "from gensim.models import TfidfModel"
   ]
  },
  {
   "cell_type": "code",
   "execution_count": 26,
   "id": "e3e51ec8",
   "metadata": {},
   "outputs": [
    {
     "name": "stdout",
     "output_type": "stream",
     "text": [
      "[(0, 1), (1, 1), (2, 1), (3, 1), (4, 1), (5, 1), (6, 2), (7, 1), (8, 1), (9, 1), (10, 1), (11, 1), (12, 1)]\n"
     ]
    }
   ],
   "source": [
    "id2word = corpora.Dictionary(data_bigrams_trigrams)\n",
    "texts = data_bigrams_trigrams\n",
    "corpus = [id2word.doc2bow(text) for text in texts]  # bow - bag of words\n",
    "print(corpus[0])"
   ]
  },
  {
   "cell_type": "code",
   "execution_count": 27,
   "id": "687b0369",
   "metadata": {},
   "outputs": [],
   "source": [
    "tfidf = TfidfModel(corpus=corpus, id2word=id2word)\n",
    "low_value = 0.03\n",
    "words = []\n",
    "words_missing_in_tfid = []\n",
    "for i in range(0, len(corpus)):\n",
    "    bow = corpus[i]\n",
    "    low_value_words = []\n",
    "    tfidf_ids = [id for id, value in tfidf[bow]]\n",
    "    bow_ids = [id for id, value in bow]\n",
    "    low_value_words = [id for id, value in tfidf[bow] if value < low_value]\n",
    "    drops = low_value_words + words_missing_in_tfid\n",
    "    for item in drops:\n",
    "        words.append(id2word[item])\n",
    "    words_missing_in_tfidf = [id for id in bow_ids if id not in tfidf_ids] # The words with tf-idf score 0 will be missing\n",
    "\n",
    "    new_bow = [b for b in bow if b[0] not in low_value_words and b[0] not in words_missing_in_tfidf]     \n",
    "    corpus[i] = new_bow"
   ]
  },
  {
   "cell_type": "markdown",
   "id": "c9396f80",
   "metadata": {},
   "source": [
    "## Modeling LDA Model"
   ]
  },
  {
   "cell_type": "code",
   "execution_count": 28,
   "id": "0fefa236",
   "metadata": {},
   "outputs": [],
   "source": [
    "lda_model = gensim.models.ldamodel.LdaModel(corpus=corpus,\n",
    "                                           id2word=id2word,\n",
    "                                           num_topics=10,\n",
    "                                           random_state=42,\n",
    "                                           update_every=1,\n",
    "                                           chunksize=100,\n",
    "                                           passes=10,\n",
    "                                           alpha='auto')"
   ]
  },
  {
   "cell_type": "code",
   "execution_count": 29,
   "id": "2009e28c",
   "metadata": {},
   "outputs": [
    {
     "data": {
      "text/plain": [
       "[(0,\n",
       "  '0.044*\"model\" + 0.030*\"machine_learning\" + 0.030*\"data\" + 0.016*\"predict\" + 0.016*\"common\" + 0.016*\"future\" + 0.016*\"inductive\" + 0.016*\"collected\" + 0.016*\"anomalous\" + 0.016*\"behavioura\"'),\n",
       " (1,\n",
       "  '0.027*\"truth\" + 0.018*\"conclusion\" + 0.018*\"case\" + 0.018*\"premise\" + 0.018*\"deductive\" + 0.018*\"inference\" + 0.018*\"computer\" + 0.018*\"artificial_intelligence\" + 0.018*\"identify\" + 0.010*\"difference\"'),\n",
       " (2,\n",
       "  '0.048*\"burrow\" + 0.048*\"food\" + 0.025*\"deposit\" + 0.025*\"return\" + 0.025*\"coast\" + 0.025*\"inside\" + 0.025*\"clear\" + 0.025*\"wasp\" + 0.025*\"first\" + 0.025*\"check\"'),\n",
       " (3,\n",
       "  '0.029*\"intelligence\" + 0.029*\"characterize\" + 0.029*\"trait\" + 0.029*\"generally\" + 0.029*\"combination\" + 0.029*\"ability\" + 0.029*\"many\" + 0.029*\"diverse\" + 0.029*\"human\" + 0.029*\"psychologists\"'),\n",
       " (4,\n",
       "  '0.046*\"ai\" + 0.046*\"problem\" + 0.024*\"solving\" + 0.024*\"following\" + 0.024*\"reasoning\" + 0.024*\"research\" + 0.024*\"learning\" + 0.024*\"intelligence\" + 0.024*\"component\" + 0.024*\"using\"'),\n",
       " (5,\n",
       "  '0.029*\"artificial_intelligence\" + 0.029*\"computer\" + 0.020*\"food\" + 0.020*\"task\" + 0.010*\"behaviour\" + 0.010*\"displaced\" + 0.010*\"often\" + 0.010*\"inch\" + 0.010*\"entrance\" + 0.010*\"system\"'),\n",
       " (6,\n",
       "  '0.027*\"regardless\" + 0.027*\"ai\" + 0.027*\"datarobot\" + 0.027*\"belief\" + 0.027*\"resource\" + 0.027*\"size\" + 0.027*\"technology\" + 0.027*\"enterprise\" + 0.027*\"emerging\" + 0.027*\"available\"'),\n",
       " (7,\n",
       "  '0.024*\"human\" + 0.024*\"accident\" + 0.024*\"instrument\" + 0.024*\"intelligence\" + 0.024*\"inference\" + 0.024*\"involves\" + 0.024*\"drawing\" + 0.024*\"failure\" + 0.024*\"behaviour\" + 0.024*\"caused\"'),\n",
       " (8,\n",
       "  '0.035*\"computer\" + 0.035*\"theorem\" + 0.018*\"digital\" + 0.018*\"playing\" + 0.018*\"demonstrated\" + 0.018*\"proficiency\" + 0.018*\"discovering\" + 0.018*\"small\" + 0.018*\"example\" + 0.018*\"rule\"'),\n",
       " (9,\n",
       "  '0.033*\"ichneumoneus\" + 0.033*\"digger\" + 0.033*\"sphex\" + 0.033*\"behaviour\" + 0.033*\"consider\" + 0.033*\"wasp\" + 0.003*\"difference\" + 0.003*\"inference\" + 0.003*\"ai\" + 0.003*\"intelligence\"')]"
      ]
     },
     "execution_count": 29,
     "metadata": {},
     "output_type": "execute_result"
    }
   ],
   "source": [
    "lda_model.print_topics()"
   ]
  },
  {
   "cell_type": "markdown",
   "id": "e21177ec",
   "metadata": {},
   "source": [
    "## Vizualizing the data"
   ]
  },
  {
   "cell_type": "code",
   "execution_count": 131,
   "id": "ab28d9a1",
   "metadata": {},
   "outputs": [],
   "source": [
    "import pyLDAvis.gensim_models as gensimvis"
   ]
  },
  {
   "cell_type": "code",
   "execution_count": 139,
   "id": "d8ea5090",
   "metadata": {},
   "outputs": [
    {
     "name": "stderr",
     "output_type": "stream",
     "text": [
      "C:\\Users\\nihal\\Anaconda3\\envs\\MLprojects\\lib\\site-packages\\pyLDAvis\\_prepare.py:246: FutureWarning: In a future version of pandas all arguments of DataFrame.drop except for the argument 'labels' will be keyword-only\n",
      "  default_term_info = default_term_info.sort_values(\n"
     ]
    },
    {
     "data": {
      "text/html": [
       "\n",
       "<link rel=\"stylesheet\" type=\"text/css\" href=\"https://cdn.jsdelivr.net/gh/bmabey/pyLDAvis@3.3.1/pyLDAvis/js/ldavis.v1.0.0.css\">\n",
       "\n",
       "\n",
       "<div id=\"ldavis_el1743616259320408963494064887\"></div>\n",
       "<script type=\"text/javascript\">\n",
       "\n",
       "var ldavis_el1743616259320408963494064887_data = {\"mdsDat\": {\"x\": [-0.1554191683749609, -0.010159577166388455, -0.1795222099388095, 0.07111300235707359, 0.18559087693412837, 0.08998568701141593, 0.05300141616212511, -0.004381225992158762, -0.05230478584392088, 0.00209598485149544], \"y\": [-0.1383460653776654, 0.2014959260404089, 0.09759606103515983, -0.1843527805609333, -0.021041122890369135, 0.01668656347357279, 0.09271324947018182, -0.07102044344626347, 0.002098512886818703, 0.0041700993690892895], \"topics\": [1, 2, 3, 4, 5, 6, 7, 8, 9, 10], \"cluster\": [1, 1, 1, 1, 1, 1, 1, 1, 1, 1], \"Freq\": [23.713149738921004, 21.38618775606979, 16.323699365904286, 11.741826276641735, 9.087270326862708, 4.9802057095370404, 4.505593620358236, 3.6292481658357625, 2.863015353443205, 1.7698036864262308]}, \"tinfo\": {\"Term\": [\"food\", \"behaviour\", \"ai\", \"intelligence\", \"burrow\", \"machine_learning\", \"model\", \"human\", \"ability\", \"computer\", \"problem\", \"diverse\", \"wasp\", \"theorem\", \"difference\", \"truth\", \"conclusion\", \"premise\", \"identify\", \"support\", \"guarantee\", \"whereas\", \"significant\", \"lends\", \"assurance\", \"absolute\", \"giving\", \"especially\", \"success\", \"draw\", \"deductive\", \"case\", \"inference\", \"artificial_intelligence\", \"computer\", \"difference\", \"reasoning\", \"form\", \"often\", \"displaced\", \"inch\", \"entrance\", \"instinctual\", \"procedure\", \"nature\", \"repeat\", \"moved\", \"away\", \"whole\", \"waspa\", \"optimizing\", \"value\", \"automating\", \"artificial_intelligence\", \"food\", \"computer\", \"task\", \"behaviour\", \"system\", \"inside\", \"emerging\", \"accident\", \"instrument\", \"involves\", \"failure\", \"drawing\", \"caused\", \"project\", \"discover\", \"term\", \"developing\", \"endowed\", \"frequently\", \"characteristic\", \"generalize\", \"intellectual\", \"intelligence\", \"behaviour\", \"inference\", \"human\", \"task\", \"reasoning\", \"model\", \"future\", \"collected\", \"tentative\", \"anomalous\", \"behavioura\", \"describe\", \"appearance\", \"developed\", \"revised\", \"force\", \"science\", \"new\", \"circumstance\", \"absent\", \"machine_learning\", \"data\", \"predict\", \"inductive\", \"common\", \"case\", \"theorem\", \"playing\", \"demonstrated\", \"proficiency\", \"mathematical\", \"programmed\", \"discovering\", \"proof\", \"tasksa\", \"basic\", \"logic\", \"mathematics\", \"rule\", \"set\", \"structure\", \"computer\", \"digital\", \"development\", \"example\", \"common\", \"problem\", \"following\", \"solving\", \"component\", \"research\", \"using\", \"perception\", \"focused\", \"chiefly\", \"language\", \"hardest\", \"confronting\", \"ai\", \"learning\", \"intelligence\", \"reasoning\", \"clear\", \"deposit\", \"coast\", \"return\", \"check\", \"intruder\", \"first\", \"female\", \"threshold\", \"burrow\", \"wasp\", \"carry\", \"food\", \"inside\", \"ichneumoneus\", \"difference\", \"regardless\", \"datarobot\", \"belief\", \"resource\", \"size\", \"enterprise\", \"founded\", \"technology\", \"emerging\", \"available\", \"difference\", \"ai\", \"machine_learning\", \"consider\", \"digger\", \"computer\", \"ability\", \"trait\", \"combination\", \"characterize\", \"generally\", \"many\", \"psychologists\", \"diverse\", \"intelligence\", \"ability\", \"human\", \"consider\", \"sphex\", \"digger\", \"ichneumoneus\", \"founded\", \"difference\", \"computer\", \"inference\", \"problem\", \"ai\", \"digger\", \"sphex\", \"ichneumoneus\", \"consider\", \"wasp\", \"behaviour\", \"psychologists\", \"generally\", \"trait\", \"many\", \"characterize\", \"combination\", \"technology\", \"enterprise\", \"founded\", \"difference\", \"inference\", \"ai\", \"artificial_intelligence\", \"intelligence\", \"problem\", \"computer\", \"example\", \"deductive\"], \"Freq\": [2.0, 2.0, 2.0, 2.0, 1.0, 2.0, 2.0, 3.0, 2.0, 5.0, 1.0, 1.0, 1.0, 1.0, 1.0, 2.3469790405249378, 1.5898843105397398, 1.5898843105397398, 1.5873826982627666, 0.8327874847267659, 0.8327874041180052, 0.8327874041180052, 0.8327874041180052, 0.8327874041180052, 0.8327874041180052, 0.8327873235092447, 0.8327873235092447, 0.8327867592479203, 0.8327866786391597, 0.8327866786391597, 1.5898838268871762, 1.5898843105397398, 1.5898835044521336, 1.587842329415802, 1.589178177796739, 0.8327877265530477, 0.8327874847267659, 0.8327874041180052, 0.8077213131504697, 0.8077213131504697, 0.8077213131504697, 0.8077213131504697, 0.8077213131504697, 0.8077213131504697, 0.8077212404518148, 0.8077212404518148, 0.8077212404518148, 0.8077212404518148, 0.8077211677531599, 0.8077211677531599, 0.8077211677531599, 0.8077211677531599, 0.8077211677531599, 2.274952610128949, 1.5420291982316137, 2.271359988001377, 1.5387528152528327, 0.8077215312464344, 0.8077213131504697, 0.8077213131504697, 0.8077213131504697, 1.430459052910572, 1.430459052910572, 1.4304588309521753, 1.4304588309521753, 1.4304588309521753, 1.4304587199729768, 0.7492818287906574, 0.7492818287906574, 0.7492818287906574, 0.7492818287906574, 0.7492817733010583, 0.7492817733010583, 0.7492817733010583, 0.7492817733010583, 0.7492817733010583, 1.430459052910572, 1.4304588309521753, 1.430459052910572, 1.4331500765129255, 0.7513464303077466, 0.7492819397698558, 1.885798462670717, 0.669192542704917, 0.6691924628762925, 0.6691924628762925, 0.6691924628762925, 0.6691924628762925, 0.6691924628762925, 0.6691924229619802, 0.6691924229619802, 0.6691924229619802, 0.6691923431333556, 0.6691923431333556, 0.6691922633047311, 0.6691921834761067, 0.6691921834761067, 1.2786102096436787, 1.2784781730986965, 0.6704454928813185, 0.669192542704917, 0.669192542704917, 0.6691924229619802, 1.152684744428019, 0.6037839197216336, 0.6037838579404188, 0.6037838579404188, 0.603783796159204, 0.603783796159204, 0.603783796159204, 0.603783796159204, 0.603783796159204, 0.603783796159204, 0.603783796159204, 0.603783796159204, 0.603783796159204, 0.603783796159204, 0.603783796159204, 1.1547850586053083, 0.604855020642085, 0.603783796159204, 0.603783796159204, 0.603783796159204, 0.8403518026723156, 0.44018266849585774, 0.44018266849585774, 0.440182600778458, 0.440182600778458, 0.44018256691975816, 0.44018256691975816, 0.4401824992023584, 0.44018246534365857, 0.44018246534365857, 0.4401822621914594, 0.44018222833275955, 0.8403522766941136, 0.440182600778458, 0.440182600778458, 0.440182600778458, 0.41681717069369484, 0.41681717069369484, 0.41681717069369484, 0.41681717069369484, 0.41681710942974276, 0.41681710942974276, 0.41681710942974276, 0.41681701753381456, 0.41681701753381456, 0.7957450988207134, 0.41681717069369484, 0.41681710942974276, 0.7957450375567613, 0.41681717069369484, 0.03789278821790545, 0.03789291840380371, 0.3606772880136653, 0.3606772386656537, 0.3606772386656537, 0.3606772386656537, 0.3606772386656537, 0.360677213991648, 0.36067716464363647, 0.36067716464363647, 0.360677213991648, 0.360677213991648, 0.3606744258289971, 0.3606772880136653, 0.3606771399696307, 0.03278910428309842, 0.0327891011988477, 0.03278911970435202, 0.032789116620101304, 0.30735154726709674, 0.30735154726709674, 0.30735154726709674, 0.30735154726709674, 0.3073515083377901, 0.30735148887313685, 0.30735148887313685, 0.30735154726709674, 0.30735154726709674, 0.30735148887313685, 0.02794126408392989, 0.027941259217766565, 0.0279412567846849, 0.0279412567846849, 0.0279412567846849, 0.027941339509461465, 0.027941278682419874, 0.027941278682419874, 0.02794127624933821, 0.027941273816256548, 0.2127461667311735, 0.2127461667311735, 0.2127461667311735, 0.2127461186020356, 0.2127461186020356, 0.21274614266660455, 0.01934069857300478, 0.01934069706896922, 0.01934069556493366, 0.01934069556493366, 0.01934069556493366, 0.019340694060898105, 0.01934069706896922, 0.01934069706896922, 0.01934069556493366, 0.019340739181964873, 0.019340712109324813, 0.019340709101253694, 0.019340709101253694, 0.019340709101253694, 0.019340709101253694, 0.019340707597218135, 0.019340706093182575, 0.019340706093182575], \"Total\": [2.0, 2.0, 2.0, 2.0, 1.0, 2.0, 2.0, 3.0, 2.0, 5.0, 1.0, 1.0, 1.0, 1.0, 1.0, 2.762234464585017, 2.0051396852201133, 2.005139694384394, 2.004648096564693, 1.2480428304845328, 1.248042746800898, 1.2480427567494852, 1.2480427568213488, 1.2480427575265602, 1.2480427633146736, 1.2480426804449258, 1.2480426938744504, 1.2480421627813496, 1.2480420943347947, 1.2480420961340506, 2.5540327439682016, 2.6134957438845534, 3.3674806072146177, 4.207090091158394, 5.304639744463182, 1.5759296017320816, 3.4866225875616212, 1.9823326944626352, 1.225255535037167, 1.225255542304997, 1.2252555423537554, 1.2252555450576177, 1.2252555457559433, 1.2252555469720328, 1.2252554726862768, 1.2252554730572884, 1.2252554745913151, 1.225255486945951, 1.2252554073110962, 1.2252554142472962, 1.2252554142472962, 1.2252554142472962, 1.2252554192853438, 4.207090091158394, 2.7174158568771785, 5.304639744463182, 3.397091969554315, 2.7810027352393725, 2.6631806052650964, 1.6041800105673172, 1.5531437442619125, 1.8533063585496616, 1.8533063634135243, 1.853306143827035, 1.853306148988663, 1.853306156567821, 1.8533060722347816, 1.1721290334414236, 1.1721290376737612, 1.1721290479837911, 1.1721290545258742, 1.172128991034777, 1.1721290006164904, 1.172129002120526, 1.172129002120526, 1.172129002120526, 2.5328824819739504, 2.7810027352393725, 3.3674806072146177, 3.6236162749864347, 3.397091969554315, 3.4866225875616212, 2.3160385406208475, 1.0993208797458796, 1.0993208152353415, 1.099320817162129, 1.099320817939204, 1.0993208202177447, 1.099320823145208, 1.099320781480154, 1.099320781480154, 1.099320781480154, 1.099320700080691, 1.0993207093741812, 1.0993206379182197, 1.0993205764340417, 1.0993205791300147, 2.7923345716507453, 3.1988296240102434, 1.8560923054353813, 1.8563986626559283, 1.6482147024842901, 2.6134957438845534, 1.5887595723787895, 1.0398586801349978, 1.0398586275795476, 1.039858632167834, 1.0398585538687057, 1.039858564650246, 1.0398585677816532, 1.0398585703866192, 1.0398585703866192, 1.0398585703866192, 1.0398585703866192, 1.0398585703866192, 1.0398585703866192, 1.0398585703866192, 1.0398585703866192, 5.304639744463182, 1.773787143175269, 1.0398585728197007, 1.7741481247932496, 1.6482147024842901, 1.2913004001060229, 0.891130718178423, 0.8911307718202434, 0.8911307222723668, 0.8911307434750833, 0.8911307316193001, 0.8911307469589627, 0.8911307366620068, 0.8911306856498747, 0.8911307234313876, 0.8911303171926099, 0.8911303423405348, 2.3531159102496315, 1.62542049482371, 2.5328824819739504, 3.4866225875616212, 0.8698891962230823, 0.8698892043007601, 0.8698892058047957, 0.8698892058047957, 0.8698891445408438, 0.8698891445408438, 0.869889161386071, 0.8698890771601889, 0.869889085811887, 1.98310782748204, 1.0632948240011992, 1.4187829265430358, 2.7174158568771785, 1.6041800105673172, 0.6843704100509385, 1.5759296017320816, 0.8188530017556267, 0.8188529547325766, 0.818852960216247, 0.8188529617011052, 0.8188529720639746, 0.8188529597079599, 0.8188529398052733, 0.8188529486853531, 1.5531437442619125, 1.5756482426890528, 1.5759296017320816, 2.3531159102496315, 2.7923345716507453, 0.6843703892781371, 0.6843704015932548, 5.304639744463182, 2.7938902583404674, 0.7703751215583847, 0.7703751266195374, 0.7703751276291915, 0.77037513682355, 0.7703751248563485, 0.7703751064164693, 1.5271943142877056, 2.5328824819739504, 2.7938902583404674, 3.6236162749864347, 0.6843703892781371, 0.6843704055060422, 0.6843704015932548, 0.6843704100509385, 0.8188529398052733, 1.5759296017320816, 5.304639744463182, 3.3674806072146177, 1.2913004001060229, 2.3531159102496315, 0.6843704015932548, 0.6843704055060422, 0.6843704100509385, 0.6843703892781371, 1.0632948240011992, 2.7810027352393725, 0.7703751064164693, 0.77037513682355, 0.7703751215583847, 0.7703751248563485, 0.7703751276291915, 0.7703751266195374, 0.8188529486853531, 0.8188529597079599, 0.8188529398052733, 1.5759296017320816, 3.3674806072146177, 2.3531159102496315, 4.207090091158394, 2.5328824819739504, 1.2913004001060229, 5.304639744463182, 1.7741481247932496, 2.5540327439682016], \"Category\": [\"Default\", \"Default\", \"Default\", \"Default\", \"Default\", \"Default\", \"Default\", \"Default\", \"Default\", \"Default\", \"Default\", \"Default\", \"Default\", \"Default\", \"Default\", \"Topic1\", \"Topic1\", \"Topic1\", \"Topic1\", \"Topic1\", \"Topic1\", \"Topic1\", \"Topic1\", \"Topic1\", \"Topic1\", \"Topic1\", \"Topic1\", \"Topic1\", \"Topic1\", \"Topic1\", \"Topic1\", \"Topic1\", \"Topic1\", \"Topic1\", \"Topic1\", \"Topic1\", \"Topic1\", \"Topic1\", \"Topic2\", \"Topic2\", \"Topic2\", \"Topic2\", \"Topic2\", \"Topic2\", \"Topic2\", \"Topic2\", \"Topic2\", \"Topic2\", \"Topic2\", \"Topic2\", \"Topic2\", \"Topic2\", \"Topic2\", \"Topic2\", \"Topic2\", \"Topic2\", \"Topic2\", \"Topic2\", \"Topic2\", \"Topic2\", \"Topic2\", \"Topic3\", \"Topic3\", \"Topic3\", \"Topic3\", \"Topic3\", \"Topic3\", \"Topic3\", \"Topic3\", \"Topic3\", \"Topic3\", \"Topic3\", \"Topic3\", \"Topic3\", \"Topic3\", \"Topic3\", \"Topic3\", \"Topic3\", \"Topic3\", \"Topic3\", \"Topic3\", \"Topic3\", \"Topic4\", \"Topic4\", \"Topic4\", \"Topic4\", \"Topic4\", \"Topic4\", \"Topic4\", \"Topic4\", \"Topic4\", \"Topic4\", \"Topic4\", \"Topic4\", \"Topic4\", \"Topic4\", \"Topic4\", \"Topic4\", \"Topic4\", \"Topic4\", \"Topic4\", \"Topic4\", \"Topic4\", \"Topic5\", \"Topic5\", \"Topic5\", \"Topic5\", \"Topic5\", \"Topic5\", \"Topic5\", \"Topic5\", \"Topic5\", \"Topic5\", \"Topic5\", \"Topic5\", \"Topic5\", \"Topic5\", \"Topic5\", \"Topic5\", \"Topic5\", \"Topic5\", \"Topic5\", \"Topic5\", \"Topic6\", \"Topic6\", \"Topic6\", \"Topic6\", \"Topic6\", \"Topic6\", \"Topic6\", \"Topic6\", \"Topic6\", \"Topic6\", \"Topic6\", \"Topic6\", \"Topic6\", \"Topic6\", \"Topic6\", \"Topic6\", \"Topic7\", \"Topic7\", \"Topic7\", \"Topic7\", \"Topic7\", \"Topic7\", \"Topic7\", \"Topic7\", \"Topic7\", \"Topic7\", \"Topic7\", \"Topic7\", \"Topic7\", \"Topic7\", \"Topic7\", \"Topic7\", \"Topic8\", \"Topic8\", \"Topic8\", \"Topic8\", \"Topic8\", \"Topic8\", \"Topic8\", \"Topic8\", \"Topic8\", \"Topic8\", \"Topic8\", \"Topic8\", \"Topic8\", \"Topic8\", \"Topic8\", \"Topic8\", \"Topic8\", \"Topic9\", \"Topic9\", \"Topic9\", \"Topic9\", \"Topic9\", \"Topic9\", \"Topic9\", \"Topic9\", \"Topic9\", \"Topic9\", \"Topic9\", \"Topic9\", \"Topic9\", \"Topic9\", \"Topic9\", \"Topic9\", \"Topic9\", \"Topic9\", \"Topic9\", \"Topic9\", \"Topic10\", \"Topic10\", \"Topic10\", \"Topic10\", \"Topic10\", \"Topic10\", \"Topic10\", \"Topic10\", \"Topic10\", \"Topic10\", \"Topic10\", \"Topic10\", \"Topic10\", \"Topic10\", \"Topic10\", \"Topic10\", \"Topic10\", \"Topic10\", \"Topic10\", \"Topic10\", \"Topic10\", \"Topic10\", \"Topic10\", \"Topic10\"], \"logprob\": [15.0, 14.0, 13.0, 12.0, 11.0, 10.0, 9.0, 8.0, 7.0, 6.0, 5.0, 4.0, 3.0, 2.0, 1.0, -3.6076, -3.9971, -3.9971, -3.9987, -4.6437, -4.6437, -4.6437, -4.6437, -4.6437, -4.6437, -4.6437, -4.6437, -4.6437, -4.6437, -4.6437, -3.9971, -3.9971, -3.9971, -3.9984, -3.9975, -4.6437, -4.6437, -4.6437, -4.571, -4.571, -4.571, -4.571, -4.571, -4.571, -4.571, -4.571, -4.571, -4.571, -4.571, -4.571, -4.571, -4.571, -4.571, -3.5355, -3.9244, -3.5371, -3.9265, -4.571, -4.571, -4.571, -4.571, -3.7293, -3.7293, -3.7293, -3.7293, -3.7293, -3.7294, -4.376, -4.376, -4.376, -4.376, -4.376, -4.376, -4.376, -4.376, -4.376, -3.7293, -3.7293, -3.7293, -3.7275, -4.3732, -4.376, -3.1235, -4.1596, -4.1596, -4.1596, -4.1596, -4.1596, -4.1596, -4.1596, -4.1596, -4.1596, -4.1596, -4.1596, -4.1596, -4.1596, -4.1596, -3.5121, -3.5122, -4.1577, -4.1596, -4.1596, -4.1596, -3.3595, -4.0061, -4.0061, -4.0061, -4.0061, -4.0061, -4.0061, -4.0061, -4.0061, -4.0061, -4.0061, -4.0061, -4.0061, -4.0061, -4.0061, -3.3577, -4.0044, -4.0061, -4.0061, -4.0061, -3.0741, -3.7208, -3.7208, -3.7208, -3.7208, -3.7208, -3.7208, -3.7208, -3.7208, -3.7208, -3.7208, -3.7208, -3.0741, -3.7208, -3.7208, -3.7208, -3.6752, -3.6752, -3.6752, -3.6752, -3.6752, -3.6752, -3.6752, -3.6752, -3.6752, -3.0285, -3.6752, -3.6752, -3.0285, -3.6752, -6.073, -6.073, -3.6035, -3.6035, -3.6035, -3.6035, -3.6035, -3.6035, -3.6035, -3.6035, -3.6035, -3.6035, -3.6035, -3.6035, -3.6035, -6.0014, -6.0014, -6.0014, -6.0014, -3.5264, -3.5264, -3.5264, -3.5264, -3.5264, -3.5264, -3.5264, -3.5264, -3.5264, -3.5264, -5.9243, -5.9243, -5.9243, -5.9243, -5.9243, -5.9243, -5.9243, -5.9243, -5.9243, -5.9243, -3.4133, -3.4133, -3.4133, -3.4133, -3.4133, -3.4133, -5.8111, -5.8111, -5.8111, -5.8111, -5.8111, -5.8111, -5.8111, -5.8111, -5.8111, -5.8111, -5.8111, -5.8111, -5.8111, -5.8111, -5.8111, -5.8111, -5.8111, -5.8111], \"loglift\": [15.0, 14.0, 13.0, 12.0, 11.0, 10.0, 9.0, 8.0, 7.0, 6.0, 5.0, 4.0, 3.0, 2.0, 1.0, 1.2762, 1.2071, 1.2071, 1.2058, 1.0346, 1.0346, 1.0346, 1.0346, 1.0346, 1.0346, 1.0346, 1.0346, 1.0346, 1.0346, 1.0346, 0.9651, 0.9421, 0.6886, 0.4647, 0.2338, 0.8013, 0.0072, 0.5719, 1.1257, 1.1257, 1.1257, 1.1257, 1.1257, 1.1257, 1.1257, 1.1257, 1.1257, 1.1257, 1.1257, 1.1257, 1.1257, 1.1257, 1.1257, 0.9276, 0.9758, 0.6942, 0.7505, 0.3061, 0.3494, 0.8563, 0.8886, 1.5536, 1.5536, 1.5536, 1.5536, 1.5536, 1.5536, 1.3651, 1.3651, 1.3651, 1.3651, 1.3651, 1.3651, 1.3651, 1.3651, 1.3651, 1.2412, 1.1477, 0.9564, 0.885, 0.3037, 0.275, 1.9365, 1.6456, 1.6456, 1.6456, 1.6456, 1.6456, 1.6456, 1.6456, 1.6456, 1.6456, 1.6456, 1.6456, 1.6456, 1.6456, 1.6456, 1.3609, 1.2249, 1.1237, 1.1217, 1.2406, 0.7796, 2.0774, 1.8547, 1.8547, 1.8547, 1.8547, 1.8547, 1.8547, 1.8547, 1.8547, 1.8547, 1.8547, 1.8547, 1.8547, 1.8547, 1.8547, 0.8736, 1.3224, 1.8547, 1.3204, 1.3941, 2.5701, 2.2944, 2.2944, 2.2944, 2.2944, 2.2944, 2.2944, 2.2944, 2.2944, 2.2944, 2.2944, 2.2944, 1.97, 1.6934, 1.2498, 0.9302, 2.3641, 2.3641, 2.3641, 2.3641, 2.3641, 2.3641, 2.3641, 2.3641, 2.3641, 2.1867, 2.1634, 1.8749, 1.8717, 1.7521, 0.2061, -0.628, 2.4962, 2.4962, 2.4962, 2.4962, 2.4962, 2.4962, 2.4962, 2.4962, 1.8561, 1.8417, 1.8415, 1.4406, 1.2695, 0.2777, 0.2777, -1.7701, -1.1289, 2.6344, 2.6344, 2.6344, 2.6344, 2.6344, 2.6344, 1.9501, 1.4442, 1.3461, 1.0861, 0.3549, 0.3549, 0.3549, 0.3549, 0.1755, -0.4792, -1.6929, -1.2385, -0.28, -0.8801, 2.8659, 2.8659, 2.8659, 2.8659, 2.4253, 1.4638, 0.3496, 0.3496, 0.3496, 0.3496, 0.3496, 0.3496, 0.2886, 0.2886, 0.2886, -0.3661, -1.1254, -0.767, -1.348, -0.8406, -0.1669, -1.5798, -0.4846, -0.8489]}, \"token.table\": {\"Topic\": [2, 3, 4, 4, 1, 3, 2, 6, 4, 4, 1, 2, 1, 2, 1, 2, 5, 2, 3, 4, 2, 7, 5, 1, 4, 3, 3, 4, 4, 4, 5, 1, 2, 5, 1, 1, 2, 4, 1, 5, 5, 4, 4, 3, 5, 1, 2, 5, 3, 5, 2, 1, 1, 3, 2, 3, 2, 1, 2, 5, 3, 2, 7, 4, 1, 2, 3, 4, 3, 1, 1, 1, 2, 3, 1, 2, 1, 4, 1, 3, 2, 2, 3, 3, 3, 3, 2, 1, 5, 1, 4, 5, 5, 4, 2, 2, 4, 2, 2, 5, 1, 4, 1, 6, 2, 5, 5, 3, 5, 1, 3, 4, 5, 2, 4, 5, 4, 5, 1, 5, 1, 1, 1, 2, 3, 1, 2, 3, 5, 4, 3, 5, 1, 2, 2, 1, 2], \"Freq\": [0.3579238651248909, 0.3579238651248909, 0.3579238651248909, 0.9096527609729498, 0.801254649114645, 0.539576198714695, 0.42496844105478615, 0.42496844105478615, 0.9096525633659958, 0.9096525935346861, 0.47538796571131037, 0.47538796571131037, 0.8012545959115236, 0.8161563574909722, 0.6346594201084929, 0.8161563124214863, 0.9616692389506394, 0.3595825301890348, 0.3595825301890348, 0.9096525614805767, 0.5042590151387301, 0.5042590151387301, 0.7048294572000314, 0.765258564005661, 0.3826292820028305, 0.5395762820731305, 0.8531484147144868, 0.9096527632037816, 0.9096525656033548, 0.6067170730201221, 0.6067170730201221, 0.3770284310235276, 0.3770284310235276, 0.1885142155117638, 0.9974367445530115, 0.312614336347911, 0.312614336347911, 0.312614336347911, 0.7830753167606611, 0.39153765838033056, 0.9616691860581803, 0.9096525590581951, 0.9096525935346861, 0.8531483765706155, 0.9616692367005069, 0.6345461110070617, 0.5637655024434853, 0.5637655024434853, 0.8531483888366309, 0.9616692413597321, 0.8161562755462116, 0.6547955231658961, 0.8012550242476687, 0.5395762575201942, 0.6438554085508819, 0.8531484227833847, 0.8161562737126604, 0.8012549814594643, 0.5636507944434093, 0.5636507944434093, 0.5395762597268096, 0.7359933500566144, 0.3679966750283072, 0.909652660890129, 0.504456190826776, 0.504456190826776, 0.8531484158092174, 0.9096525122229656, 0.8531484147144868, 0.8012546404927692, 0.801254606513515, 0.27596741048519097, 0.27596741048519097, 0.27596741048519097, 0.9976813403945269, 0.816156275513733, 0.5386773973265588, 0.5386773973265588, 0.5939158181683732, 0.2969579090841866, 0.6233714380011197, 0.8161562732474981, 0.5395761972986179, 0.8531484147144868, 0.3948071049947293, 0.539576261229579, 0.6152254159367284, 0.801254599627544, 0.9616692389506394, 0.3581232743928782, 0.3581232743928782, 0.9616692542265336, 0.9616692389506394, 0.8635434881251464, 0.8161563206510469, 0.8161563219200142, 0.9096527123275855, 0.8161562803873936, 0.816156360846872, 0.9616691374545018, 0.5387663086968248, 0.5387663086968248, 0.9974367399943314, 0.7744131419132949, 0.8161562724374474, 0.961669181814898, 0.9616692442556817, 0.8531483919171894, 0.9616692389506394, 0.2868105092783652, 0.2868105092783652, 0.2868105092783652, 0.2868105092783652, 0.8161563216728791, 0.9096525935346861, 0.9616692389506394, 0.9096526532000636, 0.9616692389506394, 0.801254600080296, 0.9616692389506394, 0.8012550254028082, 0.8012545527878766, 0.37549086908450907, 0.37549086908450907, 0.37549086908450907, 0.29436942212995076, 0.5887388442599015, 0.29436942212995076, 0.9616692389506394, 0.9096525640090003, 0.8531483813323502, 0.6294218567651101, 0.7240514973085274, 0.816156360846872, 0.816156360846872, 0.8012546001264331, 0.8161563654671526], \"Term\": [\"ability\", \"ability\", \"ability\", \"absent\", \"absolute\", \"accident\", \"ai\", \"ai\", \"anomalous\", \"appearance\", \"artificial_intelligence\", \"artificial_intelligence\", \"assurance\", \"automating\", \"available\", \"away\", \"basic\", \"behaviour\", \"behaviour\", \"behavioura\", \"burrow\", \"burrow\", \"carry\", \"case\", \"case\", \"caused\", \"characteristic\", \"circumstance\", \"collected\", \"common\", \"common\", \"computer\", \"computer\", \"computer\", \"conclusion\", \"data\", \"data\", \"data\", \"deductive\", \"deductive\", \"demonstrated\", \"describe\", \"developed\", \"developing\", \"development\", \"difference\", \"digital\", \"digital\", \"discover\", \"discovering\", \"displaced\", \"diverse\", \"draw\", \"drawing\", \"emerging\", \"endowed\", \"entrance\", \"especially\", \"example\", \"example\", \"failure\", \"food\", \"food\", \"force\", \"form\", \"form\", \"frequently\", \"future\", \"generalize\", \"giving\", \"guarantee\", \"human\", \"human\", \"human\", \"identify\", \"inch\", \"inductive\", \"inductive\", \"inference\", \"inference\", \"inside\", \"instinctual\", \"instrument\", \"intellectual\", \"intelligence\", \"involves\", \"learning\", \"lends\", \"logic\", \"machine_learning\", \"machine_learning\", \"mathematical\", \"mathematics\", \"model\", \"moved\", \"nature\", \"new\", \"often\", \"optimizing\", \"playing\", \"predict\", \"predict\", \"premise\", \"problem\", \"procedure\", \"proficiency\", \"programmed\", \"project\", \"proof\", \"reasoning\", \"reasoning\", \"reasoning\", \"reasoning\", \"repeat\", \"revised\", \"rule\", \"science\", \"set\", \"significant\", \"structure\", \"success\", \"support\", \"system\", \"system\", \"system\", \"task\", \"task\", \"task\", \"tasksa\", \"tentative\", \"term\", \"theorem\", \"truth\", \"value\", \"waspa\", \"whereas\", \"whole\"]}, \"R\": 15, \"lambda.step\": 0.01, \"plot.opts\": {\"xlab\": \"PC1\", \"ylab\": \"PC2\"}, \"topic.order\": [2, 6, 8, 1, 9, 5, 3, 7, 4, 10]};\n",
       "\n",
       "function LDAvis_load_lib(url, callback){\n",
       "  var s = document.createElement('script');\n",
       "  s.src = url;\n",
       "  s.async = true;\n",
       "  s.onreadystatechange = s.onload = callback;\n",
       "  s.onerror = function(){console.warn(\"failed to load library \" + url);};\n",
       "  document.getElementsByTagName(\"head\")[0].appendChild(s);\n",
       "}\n",
       "\n",
       "if(typeof(LDAvis) !== \"undefined\"){\n",
       "   // already loaded: just create the visualization\n",
       "   !function(LDAvis){\n",
       "       new LDAvis(\"#\" + \"ldavis_el1743616259320408963494064887\", ldavis_el1743616259320408963494064887_data);\n",
       "   }(LDAvis);\n",
       "}else if(typeof define === \"function\" && define.amd){\n",
       "   // require.js is available: use it to load d3/LDAvis\n",
       "   require.config({paths: {d3: \"https://d3js.org/d3.v5\"}});\n",
       "   require([\"d3\"], function(d3){\n",
       "      window.d3 = d3;\n",
       "      LDAvis_load_lib(\"https://cdn.jsdelivr.net/gh/bmabey/pyLDAvis@3.3.1/pyLDAvis/js/ldavis.v3.0.0.js\", function(){\n",
       "        new LDAvis(\"#\" + \"ldavis_el1743616259320408963494064887\", ldavis_el1743616259320408963494064887_data);\n",
       "      });\n",
       "    });\n",
       "}else{\n",
       "    // require.js not available: dynamically load d3 & LDAvis\n",
       "    LDAvis_load_lib(\"https://d3js.org/d3.v5.js\", function(){\n",
       "         LDAvis_load_lib(\"https://cdn.jsdelivr.net/gh/bmabey/pyLDAvis@3.3.1/pyLDAvis/js/ldavis.v3.0.0.js\", function(){\n",
       "                 new LDAvis(\"#\" + \"ldavis_el1743616259320408963494064887\", ldavis_el1743616259320408963494064887_data);\n",
       "            })\n",
       "         });\n",
       "}\n",
       "</script>"
      ],
      "text/plain": [
       "PreparedData(topic_coordinates=              x         y  topics  cluster       Freq\n",
       "topic                                                \n",
       "1     -0.155419 -0.138346       1        1  23.713150\n",
       "5     -0.010160  0.201496       2        1  21.386188\n",
       "7     -0.179522  0.097596       3        1  16.323699\n",
       "0      0.071113 -0.184353       4        1  11.741826\n",
       "8      0.185591 -0.021041       5        1   9.087270\n",
       "4      0.089986  0.016687       6        1   4.980206\n",
       "2      0.053001  0.092713       7        1   4.505594\n",
       "6     -0.004381 -0.071020       8        1   3.629248\n",
       "3     -0.052305  0.002099       9        1   2.863015\n",
       "9      0.002096  0.004170      10        1   1.769804, topic_info=             Term      Freq     Total Category  logprob  loglift\n",
       "107          food  2.000000  2.000000  Default  15.0000  15.0000\n",
       "85      behaviour  2.000000  2.000000  Default  14.0000  14.0000\n",
       "1              ai  2.000000  2.000000  Default  13.0000  13.0000\n",
       "90   intelligence  2.000000  2.000000  Default  12.0000  12.0000\n",
       "100        burrow  1.000000  1.000000  Default  11.0000  11.0000\n",
       "..            ...       ...       ...      ...      ...      ...\n",
       "90   intelligence  0.019341  2.532882  Topic10  -5.8111  -0.8406\n",
       "149       problem  0.019341  1.291300  Topic10  -5.8111  -0.1669\n",
       "6        computer  0.019341  5.304640  Topic10  -5.8111  -1.5798\n",
       "37        example  0.019341  1.774148  Topic10  -5.8111  -0.4846\n",
       "172     deductive  0.019341  2.554033  Topic10  -5.8111  -0.8489\n",
       "\n",
       "[216 rows x 6 columns], token_table=      Topic      Freq      Term\n",
       "term                           \n",
       "0         2  0.357924   ability\n",
       "0         3  0.357924   ability\n",
       "0         4  0.357924   ability\n",
       "127       4  0.909653    absent\n",
       "169       1  0.801255  absolute\n",
       "...     ...       ...       ...\n",
       "180       1  0.724051     truth\n",
       "232       2  0.816156     value\n",
       "125       2  0.816156     waspa\n",
       "181       1  0.801255   whereas\n",
       "126       2  0.816156     whole\n",
       "\n",
       "[137 rows x 3 columns], R=15, lambda_step=0.01, plot_opts={'xlab': 'PC1', 'ylab': 'PC2'}, topic_order=[2, 6, 8, 1, 9, 5, 3, 7, 4, 10])"
      ]
     },
     "execution_count": 139,
     "metadata": {},
     "output_type": "execute_result"
    }
   ],
   "source": [
    "pyLDAvis.enable_notebook()\n",
    "vis = gensimvis.prepare(lda_model, corpus, id2word, mds='mmds', R=15)\n",
    "vis"
   ]
  },
  {
   "cell_type": "markdown",
   "id": "dbb467ec",
   "metadata": {},
   "source": [
    "## Find which sentence belong to which cluster"
   ]
  },
  {
   "cell_type": "code",
   "execution_count": 30,
   "id": "edf7399d",
   "metadata": {},
   "outputs": [],
   "source": [
    "lda_corpus = lda_model[corpus]"
   ]
  },
  {
   "cell_type": "code",
   "execution_count": 31,
   "id": "7d366b2c",
   "metadata": {
    "scrolled": true
   },
   "outputs": [
    {
     "data": {
      "text/plain": [
       "26"
      ]
     },
     "execution_count": 31,
     "metadata": {},
     "output_type": "execute_result"
    }
   ],
   "source": [
    "cluster_index_list = [doc for doc in lda_corpus]\n",
    "len(cluster_index_list)"
   ]
  },
  {
   "cell_type": "code",
   "execution_count": 32,
   "id": "18d6d5e6",
   "metadata": {},
   "outputs": [],
   "source": [
    "# scores = list(chain(*[[score for topic_id,score in topic] \\ for topic in [doc for doc in lda_corpus]]))\n",
    "# threshold = sum(scores)/len(scores)\n",
    "# print(threshold)"
   ]
  },
  {
   "cell_type": "code",
   "execution_count": 47,
   "id": "fc2ac55a",
   "metadata": {},
   "outputs": [
    {
     "data": {
      "text/plain": [
       "{0: 'model',\n",
       " 1: 'truth',\n",
       " 2: 'burrow',\n",
       " 3: 'intelligence',\n",
       " 4: 'ai',\n",
       " 5: 'artificial_intelligence',\n",
       " 6: 'regardless',\n",
       " 7: 'human',\n",
       " 8: 'computer',\n",
       " 9: 'ichneumoneus'}"
      ]
     },
     "execution_count": 47,
     "metadata": {},
     "output_type": "execute_result"
    }
   ],
   "source": [
    "cluster_idx = lda_model.show_topics()\n",
    "topics = {}\n",
    "present_topics = []\n",
    "for term in cluster_idx:\n",
    "    terms = term[1].split('+')\n",
    "    idx = 0\n",
    "    element = terms[idx].split('*')[1]\n",
    "    element = element.strip()[1:-1]\n",
    "    while(element in present_topics):\n",
    "        idx += 1\n",
    "        element = terms[idx].split('*')[1]\n",
    "        element = element.strip()[1:-1]\n",
    "    present_topics.append(element)\n",
    "    topics[term[0]] = element\n",
    "    \n",
    "topics"
   ]
  },
  {
   "cell_type": "code",
   "execution_count": 48,
   "id": "0b3f2023",
   "metadata": {
    "scrolled": true
   },
   "outputs": [
    {
     "data": {
      "text/plain": [
       "'artificial intelligence (AI), the ability of a digital computer or computer-controlled robot to perform tasks commonly associated with intelligent beings.'"
      ]
     },
     "execution_count": 48,
     "metadata": {},
     "output_type": "execute_result"
    }
   ],
   "source": [
    "sentences[0]"
   ]
  },
  {
   "cell_type": "code",
   "execution_count": 49,
   "id": "a8fc0f3f",
   "metadata": {},
   "outputs": [],
   "source": [
    "clustered_sentences = {}\n",
    "for idx in range(0, len(cluster_index_list)):\n",
    "    indexes = cluster_index_list[idx]\n",
    "    if(len(indexes) == 1):\n",
    "        clustered_sentences[sentences[idx]] = topics[indexes[0][0]]\n",
    "    else:\n",
    "        max_prob = 0\n",
    "        topic = ''\n",
    "        for index in indexes:\n",
    "            prob = index[1]\n",
    "            if(prob > max_prob):\n",
    "                max_prob = prob\n",
    "                topic = topics[index[0]]\n",
    "        clustered_sentences[sentences[idx]] = topic"
   ]
  },
  {
   "cell_type": "code",
   "execution_count": 50,
   "id": "27960139",
   "metadata": {
    "scrolled": true
   },
   "outputs": [
    {
     "data": {
      "text/plain": [
       "{'artificial intelligence (AI), the ability of a digital computer or computer-controlled robot to perform tasks commonly associated with intelligent beings.': 'artificial_intelligence',\n",
       " 'The term is frequently applied to the project of developing systems endowed with the intellectual processes characteristic of humans, such as the ability to reason, discover meaning, generalize, or learn from past experience.': 'human',\n",
       " 'Since the development of the digital computer in the 1940s, it has been demonstrated that computers can be programmed to carry out very complex tasksâ€”as, for example, discovering proofs for mathematical theorems or playing chessâ€”with great proficiency.': 'computer',\n",
       " 'Still, despite continuing advances in computer processing speed and memory capacity, there are as yet no programs that can match human flexibility over wider domains or in tasks requiring much everyday knowledge.': 'artificial_intelligence',\n",
       " 'On the other hand, some programs have attained the performance levels of human experts and professionals in performing certain specific tasks, so that artificial intelligence in this limited sense is found in applications as diverse as medical diagnosis, computer search engines, and voice or handwriting recognition.': 'truth',\n",
       " 'All but the simplest human behaviour is ascribed to intelligence, while even the most complicated insect behaviour is never taken as an indication of intelligence.': 'human',\n",
       " 'What is the difference?': 'regardless',\n",
       " 'Consider the behaviour of the digger wasp, Sphex ichneumoneus.': 'ichneumoneus',\n",
       " 'When the female wasp returns to her burrow with food, she first deposits it on the threshold, checks for intruders inside her burrow, and only then, if the coast is clear, carries her food inside.': 'burrow',\n",
       " 'The real nature of the waspâ€™s instinctual behaviour is revealed if the food is moved a few inches away from the entrance to her burrow while she is inside: on emerging, she will repeat the whole procedure as often as the food is displaced.': 'artificial_intelligence',\n",
       " 'Intelligenceâ€”conspicuously absent in the case of Sphexâ€”must include the ability to adapt to new circumstances.': 'model',\n",
       " 'Psychologists generally do not characterize human intelligence by just one trait but by the combination of many diverse abilities.': 'intelligence',\n",
       " 'Research in AI has focused chiefly on the following components of intelligence: learning, reasoning, problem solving, perception, and using language.': 'ai',\n",
       " 'There are a number of different forms of learning as applied to artificial intelligence.': 'artificial_intelligence',\n",
       " 'An example of the former is, â€œFred must be in either the museum or the cafÃ©.': 'artificial_intelligence',\n",
       " 'He is not in the cafÃ©; therefore he is in the museum, and of the latter, Previous accidents of this sort were caused by instrument failure; therefore this accident was caused by instrument failure.': 'human',\n",
       " 'The most significant difference between these forms of reasoning is that in the deductive case the truth of the premises guarantees the truth of the conclusion, whereas in the inductive case the truth of the premise lends support to the conclusion without giving absolute assurance.': 'truth',\n",
       " 'Inductive reasoning is common in science, where data are collected and tentative models are developed to describe and predict future behaviourâ€”until the appearance of anomalous data forces the model to be revised.': 'model',\n",
       " 'Deductive reasoning is common in mathematics and logic, where elaborate structures of irrefutable theorems are built up from a small set of basic axioms and rules.': 'computer',\n",
       " 'There has been considerable success in programming computers to draw inferences, especially deductive inferences.': 'truth',\n",
       " 'However, true reasoning involves more than just drawing inferences; it involves drawing inferences relevant to the solution of the particular task or situation.': 'human',\n",
       " 'This is one of the hardest problems confronting AI.': 'ai',\n",
       " 'Artificial intelligence systems are critical for companies that wish to extract value from data by automating and optimizing processes or producing actionable insights.': 'artificial_intelligence',\n",
       " 'Artificial intelligence systems powered by machine learning enable companies to leverage large amounts of available data to uncover insights and patterns that would be impossible for any one person to identify, enabling them to deliver more targeted, personalized communications, predict critical care events, identify likely fraudulent transactions, and more.': 'truth',\n",
       " 'DataRobot was founded on the belief that emerging AI and machine learning technologies should be available to all enterprises, regardless of size and resources.': 'regardless',\n",
       " 'Thatâ€™s why we invented automated machine learning, which allows users of all skill levels to easily and rapidly build and deploy machine learning models.': 'model'}"
      ]
     },
     "execution_count": 50,
     "metadata": {},
     "output_type": "execute_result"
    }
   ],
   "source": [
    "clustered_sentences"
   ]
  },
  {
   "cell_type": "code",
   "execution_count": 51,
   "id": "0cdcdd00",
   "metadata": {},
   "outputs": [
    {
     "name": "stdout",
     "output_type": "stream",
     "text": [
      "{0: 'Intelligenceâ€”conspicuously absent in the case of Sphexâ€”must include the ability to adapt to new circumstances.Inductive reasoning is common in science, where data are collected and tentative models are developed to describe and predict future behaviourâ€”until the appearance of anomalous data forces the model to be revised.Thatâ€™s why we invented automated machine learning, which allows users of all skill levels to easily and rapidly build and deploy machine learning models.', 1: 'On the other hand, some programs have attained the performance levels of human experts and professionals in performing certain specific tasks, so that artificial intelligence in this limited sense is found in applications as diverse as medical diagnosis, computer search engines, and voice or handwriting recognition.The most significant difference between these forms of reasoning is that in the deductive case the truth of the premises guarantees the truth of the conclusion, whereas in the inductive case the truth of the premise lends support to the conclusion without giving absolute assurance.There has been considerable success in programming computers to draw inferences, especially deductive inferences.Artificial intelligence systems powered by machine learning enable companies to leverage large amounts of available data to uncover insights and patterns that would be impossible for any one person to identify, enabling them to deliver more targeted, personalized communications, predict critical care events, identify likely fraudulent transactions, and more.', 2: 'When the female wasp returns to her burrow with food, she first deposits it on the threshold, checks for intruders inside her burrow, and only then, if the coast is clear, carries her food inside.', 3: 'Psychologists generally do not characterize human intelligence by just one trait but by the combination of many diverse abilities.', 4: 'Research in AI has focused chiefly on the following components of intelligence: learning, reasoning, problem solving, perception, and using language.This is one of the hardest problems confronting AI.', 5: 'artificial intelligence (AI), the ability of a digital computer or computer-controlled robot to perform tasks commonly associated with intelligent beings.Still, despite continuing advances in computer processing speed and memory capacity, there are as yet no programs that can match human flexibility over wider domains or in tasks requiring much everyday knowledge.The real nature of the waspâ€™s instinctual behaviour is revealed if the food is moved a few inches away from the entrance to her burrow while she is inside: on emerging, she will repeat the whole procedure as often as the food is displaced.There are a number of different forms of learning as applied to artificial intelligence.An example of the former is, â€œFred must be in either the museum or the cafÃ©.Artificial intelligence systems are critical for companies that wish to extract value from data by automating and optimizing processes or producing actionable insights.', 6: 'What is the difference?DataRobot was founded on the belief that emerging AI and machine learning technologies should be available to all enterprises, regardless of size and resources.', 7: 'The term is frequently applied to the project of developing systems endowed with the intellectual processes characteristic of humans, such as the ability to reason, discover meaning, generalize, or learn from past experience.All but the simplest human behaviour is ascribed to intelligence, while even the most complicated insect behaviour is never taken as an indication of intelligence.He is not in the cafÃ©; therefore he is in the museum, and of the latter, Previous accidents of this sort were caused by instrument failure; therefore this accident was caused by instrument failure.However, true reasoning involves more than just drawing inferences; it involves drawing inferences relevant to the solution of the particular task or situation.', 8: 'Since the development of the digital computer in the 1940s, it has been demonstrated that computers can be programmed to carry out very complex tasksâ€”as, for example, discovering proofs for mathematical theorems or playing chessâ€”with great proficiency.Deductive reasoning is common in mathematics and logic, where elaborate structures of irrefutable theorems are built up from a small set of basic axioms and rules.', 9: 'Consider the behaviour of the digger wasp, Sphex ichneumoneus.'}\n"
     ]
    }
   ],
   "source": [
    "grouped_sentences = {k: '' for k in range(0, 10)}\n",
    "for idx in range(0, len(cluster_index_list)):\n",
    "    indexes = cluster_index_list[idx]\n",
    "    if(len(indexes) == 1):\n",
    "        grouped_sentences[indexes[0][0]] += sentences[idx]\n",
    "    else:\n",
    "        max_prob = 0\n",
    "        best_index = 0\n",
    "        for index in indexes:\n",
    "            prob = index[1]\n",
    "            if(prob > max_prob):\n",
    "                max_prob = prob\n",
    "                best_index = index[0]\n",
    "        grouped_sentences[best_index] += sentences[idx]\n",
    "\n",
    "print(grouped_sentences)"
   ]
  },
  {
   "cell_type": "code",
   "execution_count": 52,
   "id": "8ff87307",
   "metadata": {},
   "outputs": [
    {
     "name": "stdout",
     "output_type": "stream",
     "text": [
      "Intelligenceâ€”conspicuously absent in the case of Sphexâ€”must include the ability to adapt to new circumstances.Inductive reasoning is common in science, where data are collected and tentative models are developed to describe and predict future behaviourâ€”until the appearance of anomalous data forces the model to be revised.Thatâ€™s why we invented automated machine learning, which allows users of all skill levels to easily and rapidly build and deploy machine learning models.\n",
      "\n",
      "\n",
      "On the other hand, some programs have attained the performance levels of human experts and professionals in performing certain specific tasks, so that artificial intelligence in this limited sense is found in applications as diverse as medical diagnosis, computer search engines, and voice or handwriting recognition.The most significant difference between these forms of reasoning is that in the deductive case the truth of the premises guarantees the truth of the conclusion, whereas in the inductive case the truth of the premise lends support to the conclusion without giving absolute assurance.There has been considerable success in programming computers to draw inferences, especially deductive inferences.Artificial intelligence systems powered by machine learning enable companies to leverage large amounts of available data to uncover insights and patterns that would be impossible for any one person to identify, enabling them to deliver more targeted, personalized communications, predict critical care events, identify likely fraudulent transactions, and more.\n",
      "\n",
      "\n",
      "When the female wasp returns to her burrow with food, she first deposits it on the threshold, checks for intruders inside her burrow, and only then, if the coast is clear, carries her food inside.\n",
      "\n",
      "\n",
      "Psychologists generally do not characterize human intelligence by just one trait but by the combination of many diverse abilities.\n",
      "\n",
      "\n",
      "Research in AI has focused chiefly on the following components of intelligence: learning, reasoning, problem solving, perception, and using language.This is one of the hardest problems confronting AI.\n",
      "\n",
      "\n",
      "artificial intelligence (AI), the ability of a digital computer or computer-controlled robot to perform tasks commonly associated with intelligent beings.Still, despite continuing advances in computer processing speed and memory capacity, there are as yet no programs that can match human flexibility over wider domains or in tasks requiring much everyday knowledge.The real nature of the waspâ€™s instinctual behaviour is revealed if the food is moved a few inches away from the entrance to her burrow while she is inside: on emerging, she will repeat the whole procedure as often as the food is displaced.There are a number of different forms of learning as applied to artificial intelligence.An example of the former is, â€œFred must be in either the museum or the cafÃ©.Artificial intelligence systems are critical for companies that wish to extract value from data by automating and optimizing processes or producing actionable insights.\n",
      "\n",
      "\n",
      "What is the difference?DataRobot was founded on the belief that emerging AI and machine learning technologies should be available to all enterprises, regardless of size and resources.\n",
      "\n",
      "\n",
      "The term is frequently applied to the project of developing systems endowed with the intellectual processes characteristic of humans, such as the ability to reason, discover meaning, generalize, or learn from past experience.All but the simplest human behaviour is ascribed to intelligence, while even the most complicated insect behaviour is never taken as an indication of intelligence.He is not in the cafÃ©; therefore he is in the museum, and of the latter, Previous accidents of this sort were caused by instrument failure; therefore this accident was caused by instrument failure.However, true reasoning involves more than just drawing inferences; it involves drawing inferences relevant to the solution of the particular task or situation.\n",
      "\n",
      "\n",
      "Since the development of the digital computer in the 1940s, it has been demonstrated that computers can be programmed to carry out very complex tasksâ€”as, for example, discovering proofs for mathematical theorems or playing chessâ€”with great proficiency.Deductive reasoning is common in mathematics and logic, where elaborate structures of irrefutable theorems are built up from a small set of basic axioms and rules.\n",
      "\n",
      "\n",
      "Consider the behaviour of the digger wasp, Sphex ichneumoneus.\n",
      "\n",
      "\n"
     ]
    }
   ],
   "source": [
    "for i in grouped_sentences:\n",
    "    print(grouped_sentences[i])\n",
    "    print('\\n')"
   ]
  },
  {
   "cell_type": "markdown",
   "id": "ef46b7e0",
   "metadata": {},
   "source": [
    "# Testing the py file (Converted function file)"
   ]
  },
  {
   "cell_type": "code",
   "execution_count": 129,
   "id": "bd76fdec",
   "metadata": {},
   "outputs": [],
   "source": [
    "import ldamodule"
   ]
  },
  {
   "cell_type": "code",
   "execution_count": 130,
   "id": "f6a13553",
   "metadata": {},
   "outputs": [
    {
     "data": {
      "text/plain": [
       "'artificial intelligence (AI), the ability of a digital computer or computer-controlled robot to perform tasks commonly associated with intelligent beings. The term is frequently applied to the project of developing systems endowed with the intellectual processes characteristic of humans, such as the ability to reason, discover meaning, generalize, or learn from past experience. Since the development of the digital computer in the 1940s, it has been demonstrated that computers can be programmed to carry out very complex tasksâ€”as, for example, discovering proofs for mathematical theorems or playing chessâ€”with great proficiency. Still, despite continuing advances in computer processing speed and memory capacity, there are as yet no programs that can match human flexibility over wider domains or in tasks requiring much everyday knowledge. On the other hand, some programs have attained the performance levels of human experts and professionals in performing certain specific tasks, so that artificial intelligence in this limited sense is found in applications as diverse as medical diagnosis, computer search engines, and voice or handwriting recognition. All but the simplest human behaviour is ascribed to intelligence, while even the most complicated insect behaviour is never taken as an indication of intelligence. What is the difference? Consider the behaviour of the digger wasp, Sphex ichneumoneus. When the female wasp returns to her burrow with food, she first deposits it on the threshold, checks for intruders inside her burrow, and only then, if the coast is clear, carries her food inside. The real nature of the waspâ€™s instinctual behaviour is revealed if the food is moved a few inches away from the entrance to her burrow while she is inside: on emerging, she will repeat the whole procedure as often as the food is displaced. Intelligenceâ€”conspicuously absent in the case of Sphexâ€”must include the ability to adapt to new circumstances. Psychologists generally do not characterize human intelligence by just one trait but by the combination of many diverse abilities. Research in AI has focused chiefly on the following components of intelligence: learning, reasoning, problem solving, perception, and using language. There are a number of different forms of learning as applied to artificial intelligence. An example of the former is, â€œFred must be in either the museum or the cafÃ©. He is not in the cafÃ©; therefore he is in the museum, and of the latter, Previous accidents of this sort were caused by instrument failure; therefore this accident was caused by instrument failure. The most significant difference between these forms of reasoning is that in the deductive case the truth of the premises guarantees the truth of the conclusion, whereas in the inductive case the truth of the premise lends support to the conclusion without giving absolute assurance. Inductive reasoning is common in science, where data are collected and tentative models are developed to describe and predict future behaviourâ€”until the appearance of anomalous data forces the model to be revised. Deductive reasoning is common in mathematics and logic, where elaborate structures of irrefutable theorems are built up from a small set of basic axioms and rules. There has been considerable success in programming computers to draw inferences, especially deductive inferences. However, true reasoning involves more than just drawing inferences; it involves drawing inferences relevant to the solution of the particular task or situation. This is one of the hardest problems confronting AI. Artificial intelligence systems are critical for companies that wish to extract value from data by automating and optimizing processes or producing actionable insights. Artificial intelligence systems powered by machine learning enable companies to leverage large amounts of available data to uncover insights and patterns that would be impossible for any one person to identify, enabling them to deliver more targeted, personalized communications, predict critical care events, identify likely fraudulent transactions, and more. DataRobot was founded on the belief that emerging AI and machine learning technologies should be available to all enterprises, regardless of size and resources. Thatâ€™s why we invented automated machine learning, which allows users of all skill levels to easily and rapidly build and deploy machine learning models.\\n'"
      ]
     },
     "execution_count": 130,
     "metadata": {},
     "output_type": "execute_result"
    }
   ],
   "source": [
    "data[0]"
   ]
  },
  {
   "cell_type": "code",
   "execution_count": 131,
   "id": "164c37cb",
   "metadata": {},
   "outputs": [],
   "source": [
    "grouped_text = ldamodule.create_topics(data[0], 3, 10)"
   ]
  },
  {
   "cell_type": "code",
   "execution_count": 132,
   "id": "06341dae",
   "metadata": {},
   "outputs": [
    {
     "data": {
      "text/plain": [
       "{0: 'He is not in the cafÃ©; therefore he is in the museum, and of the latter, Previous accidents of this sort were caused by instrument failure; therefore this accident was caused by instrument failure.The most significant difference between these forms of reasoning is that in the deductive case the truth of the premises guarantees the truth of the conclusion, whereas in the inductive case the truth of the premise lends support to the conclusion without giving absolute assurance.Inductive reasoning is common in science, where data are collected and tentative models are developed to describe and predict future behaviourâ€”until the appearance of anomalous data forces the model to be revised.',\n",
       " 1: 'Deductive reasoning is common in mathematics and logic, where elaborate structures of irrefutable theorems are built up from a small set of basic axioms and rules.There has been considerable success in programming computers to draw inferences, especially deductive inferences.However, true reasoning involves more than just drawing inferences; it involves drawing inferences relevant to the solution of the particular task or situation.',\n",
       " 2: '',\n",
       " 3: 'artificial intelligence (AI), the ability of a digital computer or computer-controlled robot to perform tasks commonly associated with intelligent beings.The term is frequently applied to the project of developing systems endowed with the intellectual processes characteristic of humans, such as the ability to reason, discover meaning, generalize, or learn from past experience.Since the development of the digital computer in the 1940s, it has been demonstrated that computers can be programmed to carry out very complex tasksâ€”as, for example, discovering proofs for mathematical theorems or playing chessâ€”with great proficiency.Research in AI has focused chiefly on the following components of intelligence: learning, reasoning, problem solving, perception, and using language.There are a number of different forms of learning as applied to artificial intelligence.An example of the former is, â€œFred must be in either the museum or the cafÃ©.',\n",
       " 4: '',\n",
       " 5: 'The real nature of the waspâ€™s instinctual behaviour is revealed if the food is moved a few inches away from the entrance to her burrow while she is inside: on emerging, she will repeat the whole procedure as often as the food is displaced.Intelligenceâ€”conspicuously absent in the case of Sphexâ€”must include the ability to adapt to new circumstances.Psychologists generally do not characterize human intelligence by just one trait but by the combination of many diverse abilities.This is one of the hardest problems confronting AI.Artificial intelligence systems are critical for companies that wish to extract value from data by automating and optimizing processes or producing actionable insights.Artificial intelligence systems powered by machine learning enable companies to leverage large amounts of available data to uncover insights and patterns that would be impossible for any one person to identify, enabling them to deliver more targeted, personalized communications, predict critical care events, identify likely fraudulent transactions, and more.',\n",
       " 6: '',\n",
       " 7: 'What is the difference?Consider the behaviour of the digger wasp, Sphex ichneumoneus.When the female wasp returns to her burrow with food, she first deposits it on the threshold, checks for intruders inside her burrow, and only then, if the coast is clear, carries her food inside.',\n",
       " 8: 'Still, despite continuing advances in computer processing speed and memory capacity, there are as yet no programs that can match human flexibility over wider domains or in tasks requiring much everyday knowledge.On the other hand, some programs have attained the performance levels of human experts and professionals in performing certain specific tasks, so that artificial intelligence in this limited sense is found in applications as diverse as medical diagnosis, computer search engines, and voice or handwriting recognition.All but the simplest human behaviour is ascribed to intelligence, while even the most complicated insect behaviour is never taken as an indication of intelligence.',\n",
       " 9: 'DataRobot was founded on the belief that emerging AI and machine learning technologies should be available to all enterprises, regardless of size and resources.Thatâ€™s why we invented automated machine learning, which allows users of all skill levels to easily and rapidly build and deploy machine learning models.'}"
      ]
     },
     "execution_count": 132,
     "metadata": {},
     "output_type": "execute_result"
    }
   ],
   "source": [
    "grouped_text"
   ]
  },
  {
   "cell_type": "code",
   "execution_count": null,
   "id": "441be187",
   "metadata": {},
   "outputs": [],
   "source": []
  }
 ],
 "metadata": {
  "kernelspec": {
   "display_name": "Python 3 (ipykernel)",
   "language": "python",
   "name": "python3"
  },
  "language_info": {
   "codemirror_mode": {
    "name": "ipython",
    "version": 3
   },
   "file_extension": ".py",
   "mimetype": "text/x-python",
   "name": "python",
   "nbconvert_exporter": "python",
   "pygments_lexer": "ipython3",
   "version": "3.9.12"
  }
 },
 "nbformat": 4,
 "nbformat_minor": 5
}
