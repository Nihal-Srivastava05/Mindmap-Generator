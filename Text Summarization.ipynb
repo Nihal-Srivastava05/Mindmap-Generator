{
 "cells": [
  {
   "cell_type": "code",
   "execution_count": 1,
   "id": "b032c2e2",
   "metadata": {},
   "outputs": [],
   "source": [
    "import numpy as np\n",
    "from nltk.corpus import stopwords\n",
    "from nltk.tokenize import sent_tokenize, word_tokenize\n",
    "from nltk.cluster.util import cosine_distance\n",
    "import networkx as nx"
   ]
  },
  {
   "cell_type": "code",
   "execution_count": 2,
   "id": "b7978f5f",
   "metadata": {},
   "outputs": [],
   "source": [
    "def read_article(file_name):\n",
    "    file = open(file_name, 'r')\n",
    "    filedata = file.read()\n",
    "    sentences = sent_tokenize(filedata)\n",
    "    word_list = []\n",
    "    for sentence in sentences:\n",
    "        words = word_tokenize(sentence)\n",
    "        word_list.append(words)\n",
    "        \n",
    "    return word_list\n",
    "#     filedata = file.readlines()\n",
    "#     article = filedata[0].split(\". \")\n",
    "#     sentences = []\n",
    "#     for sentence in article:\n",
    "#         sentences.append(sentence.replace(\"[^a-zA-Z]\", \" \").split(\" \"))\n",
    "#     sentences.pop()\n",
    "#     return sentences"
   ]
  },
  {
   "cell_type": "code",
   "execution_count": 3,
   "id": "42262b42",
   "metadata": {},
   "outputs": [],
   "source": [
    "def sentence_similarity(sent1, sent2, stop_words):\n",
    "    sent1 = [w.lower() for w in sent1]\n",
    "    sent2 = [w.lower() for w in sent2]\n",
    "    all_words = list((set(sent1+sent2)))\n",
    "    \n",
    "    vector1 = [0] * len(all_words)\n",
    "    vector2 = [0] * len(all_words)\n",
    "    for w in sent1:\n",
    "        if w not in stop_words:\n",
    "            vector1[all_words.index(w)] += 1\n",
    "    for w in sent2:\n",
    "        if w not in stop_words:\n",
    "            vector2[all_words.index(w)] += 1\n",
    "    \n",
    "    return 1-cosine_distance(vector1, vector2)"
   ]
  },
  {
   "cell_type": "code",
   "execution_count": 4,
   "id": "9d5f3673",
   "metadata": {},
   "outputs": [],
   "source": [
    "def gen_sim_matrix(sentences, stop_words):\n",
    "    similarity_matrix = np.zeros((len(sentences), len(sentences)))\n",
    "    for idx1 in range(len(sentences)):\n",
    "        for idx2 in range(len(sentences)):\n",
    "            if(idx1 == idx2):\n",
    "                continue\n",
    "            similarity_matrix[idx1][idx2] = sentence_similarity(sentences[idx1], sentences[idx2], stop_words)\n",
    "    \n",
    "    return similarity_matrix"
   ]
  },
  {
   "cell_type": "code",
   "execution_count": 9,
   "id": "f055f572",
   "metadata": {},
   "outputs": [],
   "source": [
    "def generate_summary(file_name, top_n=5):\n",
    "    stop_words = stopwords.words('english')\n",
    "    summarized_text = []\n",
    "    sentences = read_article(file_name)\n",
    "    sentence_similarity_matrix = gen_sim_matrix(sentences, stop_words)\n",
    "    sentence_similarity_graph = nx.from_numpy_array(sentence_similarity_matrix)\n",
    "    scores = nx.pagerank(sentence_similarity_graph)\n",
    "    ranked_sentences = sorted(((scores[i], s) for i,s in enumerate(sentences)), reverse=True)\n",
    "    print(ranked_sentences)\n",
    "    for i in range(top_n):\n",
    "        summarized_text.append(\" \".join(ranked_sentences[i][1]))\n",
    "    print(\"Summary: \\n\", \" \".join(summarized_text))"
   ]
  },
  {
   "cell_type": "code",
   "execution_count": 15,
   "id": "f61d7efc",
   "metadata": {},
   "outputs": [
    {
     "name": "stdout",
     "output_type": "stream",
     "text": [
      "[(0.07152987232632814, ['Research', 'in', 'AI', 'has', 'focused', 'chiefly', 'on', 'the', 'following', 'components', 'of', 'intelligence', ':', 'learning', ',', 'reasoning', ',', 'problem', 'solving', ',', 'perception', ',', 'and', 'using', 'language', '.']), (0.06569999148491165, ['When', 'the', 'female', 'wasp', 'returns', 'to', 'her', 'burrow', 'with', 'food', ',', 'she', 'first', 'deposits', 'it', 'on', 'the', 'threshold', ',', 'checks', 'for', 'intruders', 'inside', 'her', 'burrow', ',', 'and', 'only', 'then', ',', 'if', 'the', 'coast', 'is', 'clear', ',', 'carries', 'her', 'food', 'inside', '.']), (0.064044378468212, ['On', 'the', 'other', 'hand', ',', 'some', 'programs', 'have', 'attained', 'the', 'performance', 'levels', 'of', 'human', 'experts', 'and', 'professionals', 'in', 'performing', 'certain', 'specific', 'tasks', ',', 'so', 'that', 'artificial', 'intelligence', 'in', 'this', 'limited', 'sense', 'is', 'found', 'in', 'applications', 'as', 'diverse', 'as', 'medical', 'diagnosis', ',', 'computer', 'search', 'engines', ',', 'and', 'voice', 'or', 'handwriting', 'recognition', '.']), (0.0626246899009631, ['The', 'term', 'is', 'frequently', 'applied', 'to', 'the', 'project', 'of', 'developing', 'systems', 'endowed', 'with', 'the', 'intellectual', 'processes', 'characteristic', 'of', 'humans', ',', 'such', 'as', 'the', 'ability', 'to', 'reason', ',', 'discover', 'meaning', ',', 'generalize', ',', 'or', 'learn', 'from', 'past', 'experience', '.']), (0.05837417463902339, ['Since', 'the', 'development', 'of', 'the', 'digital', 'computer', 'in', 'the', '1940s', ',', 'it', 'has', 'been', 'demonstrated', 'that', 'computers', 'can', 'be', 'programmed', 'to', 'carry', 'out', 'very', 'complex', 'tasksâ€', '”', 'as', ',', 'for', 'example', ',', 'discovering', 'proofs', 'for', 'mathematical', 'theorems', 'or', 'playing', 'chessâ€', '”', 'with', 'great', 'proficiency', '.']), (0.054600234562824104, ['Consider', 'the', 'behaviour', 'of', 'the', 'digger', 'wasp', ',', 'Sphex', 'ichneumoneus', '.']), (0.052031526249503045, ['An', 'example', 'of', 'the', 'former', 'is', ',', 'â€œFred', 'must', 'be', 'in', 'either', 'the', 'museum', 'or', 'the', 'cafÃ©', '.']), (0.04941336352680277, ['Still', ',', 'despite', 'continuing', 'advances', 'in', 'computer', 'processing', 'speed', 'and', 'memory', 'capacity', ',', 'there', 'are', 'as', 'yet', 'no', 'programs', 'that', 'can', 'match', 'human', 'flexibility', 'over', 'wider', 'domains', 'or', 'in', 'tasks', 'requiring', 'much', 'everyday', 'knowledge', '.']), (0.04831107242663111, ['artificial', 'intelligence', '(', 'AI', ')', ',', 'the', 'ability', 'of', 'a', 'digital', 'computer', 'or', 'computer-controlled', 'robot', 'to', 'perform', 'tasks', 'commonly', 'associated', 'with', 'intelligent', 'beings', '.']), (0.047747307044856524, ['All', 'but', 'the', 'simplest', 'human', 'behaviour', 'is', 'ascribed', 'to', 'intelligence', ',', 'while', 'even', 'the', 'most', 'complicated', 'insect', 'behaviour', 'is', 'never', 'taken', 'as', 'an', 'indication', 'of', 'intelligence', '.']), (0.046970295206014374, ['There', 'has', 'been', 'considerable', 'success', 'in', 'programming', 'computers', 'to', 'draw', 'inferences', ',', 'especially', 'deductive', 'inferences', '.']), (0.04398349991639675, ['He', 'is', 'not', 'in', 'the', 'cafÃ©', ';', 'therefore', 'he', 'is', 'in', 'the', 'museum', ',', 'and', 'of', 'the', 'latter', ',', 'Previous', 'accidents', 'of', 'this', 'sort', 'were', 'caused', 'by', 'instrument', 'failure', ';', 'therefore', 'this', 'accident', 'was', 'caused', 'by', 'instrument', 'failure', '.']), (0.0426372915347444, ['Deductive', 'reasoning', 'is', 'common', 'in', 'mathematics', 'and', 'logic', ',', 'where', 'elaborate', 'structures', 'of', 'irrefutable', 'theorems', 'are', 'built', 'up', 'from', 'a', 'small', 'set', 'of', 'basic', 'axioms', 'and', 'rules', '.']), (0.04094316065307891, ['The', 'most', 'significant', 'difference', 'between', 'these', 'forms', 'of', 'reasoning', 'is', 'that', 'in', 'the', 'deductive', 'case', 'the', 'truth', 'of', 'the', 'premises', 'guarantees', 'the', 'truth', 'of', 'the', 'conclusion', ',', 'whereas', 'in', 'the', 'inductive', 'case', 'the', 'truth', 'of', 'the', 'premise', 'lends', 'support', 'to', 'the', 'conclusion', 'without', 'giving', 'absolute', 'assurance', '.']), (0.03932118871038408, ['However', ',', 'true', 'reasoning', 'involves', 'more', 'than', 'just', 'drawing', 'inferences', ';', 'it', 'involves', 'drawing', 'inferences', 'relevant', 'to', 'the', 'solution', 'of', 'the', 'particular', 'task', 'or', 'situation', '.']), (0.038411460189834906, ['Inductive', 'reasoning', 'is', 'common', 'in', 'science', ',', 'where', 'data', 'are', 'collected', 'and', 'tentative', 'models', 'are', 'developed', 'to', 'describe', 'and', 'predict', 'future', 'behaviourâ€', '”', 'until', 'the', 'appearance', 'of', 'anomalous', 'data', 'forces', 'the', 'model', 'to', 'be', 'revised', '.']), (0.03743515583936017, ['The', 'real', 'nature', 'of', 'the', 'waspâ€™s', 'instinctual', 'behaviour', 'is', 'revealed', 'if', 'the', 'food', 'is', 'moved', 'a', 'few', 'inches', 'away', 'from', 'the', 'entrance', 'to', 'her', 'burrow', 'while', 'she', 'is', 'inside', ':', 'on', 'emerging', ',', 'she', 'will', 'repeat', 'the', 'whole', 'procedure', 'as', 'often', 'as', 'the', 'food', 'is', 'displaced', '.']), (0.035692337087656116, ['There', 'are', 'a', 'number', 'of', 'different', 'forms', 'of', 'learning', 'as', 'applied', 'to', 'artificial', 'intelligence', '.']), (0.03254798213214275, ['This', 'is', 'one', 'of', 'the', 'hardest', 'problems', 'confronting', 'AI', '.']), (0.031637701434359795, ['Psychologists', 'generally', 'do', 'not', 'characterize', 'human', 'intelligence', 'by', 'just', 'one', 'trait', 'but', 'by', 'the', 'combination', 'of', 'many', 'diverse', 'abilities', '.']), (0.027482419012830016, ['Intelligenceâ€', '”', 'conspicuously', 'absent', 'in', 'the', 'case', 'of', 'Sphexâ€', '”', 'must', 'include', 'the', 'ability', 'to', 'adapt', 'to', 'new', 'circumstances', '.']), (0.008560897653142129, ['What', 'is', 'the', 'difference', '?'])]\n",
      "Summary: \n",
      " Research in AI has focused chiefly on the following components of intelligence : learning , reasoning , problem solving , perception , and using language . When the female wasp returns to her burrow with food , she first deposits it on the threshold , checks for intruders inside her burrow , and only then , if the coast is clear , carries her food inside . On the other hand , some programs have attained the performance levels of human experts and professionals in performing certain specific tasks , so that artificial intelligence in this limited sense is found in applications as diverse as medical diagnosis , computer search engines , and voice or handwriting recognition . The term is frequently applied to the project of developing systems endowed with the intellectual processes characteristic of humans , such as the ability to reason , discover meaning , generalize , or learn from past experience . Since the development of the digital computer in the 1940s , it has been demonstrated that computers can be programmed to carry out very complex tasksâ€ ” as , for example , discovering proofs for mathematical theorems or playing chessâ€ ” with great proficiency .\n"
     ]
    }
   ],
   "source": [
    "generate_summary(\"sample_text.txt\", 5)"
   ]
  },
  {
   "cell_type": "code",
   "execution_count": null,
   "id": "8a6c07b7",
   "metadata": {},
   "outputs": [],
   "source": []
  },
  {
   "cell_type": "code",
   "execution_count": null,
   "id": "189a9fdd",
   "metadata": {},
   "outputs": [],
   "source": []
  }
 ],
 "metadata": {
  "kernelspec": {
   "display_name": "Python 3 (ipykernel)",
   "language": "python",
   "name": "python3"
  },
  "language_info": {
   "codemirror_mode": {
    "name": "ipython",
    "version": 3
   },
   "file_extension": ".py",
   "mimetype": "text/x-python",
   "name": "python",
   "nbconvert_exporter": "python",
   "pygments_lexer": "ipython3",
   "version": "3.9.12"
  }
 },
 "nbformat": 4,
 "nbformat_minor": 5
}
