{
 "cells": [
  {
   "cell_type": "markdown",
   "id": "add15f6d",
   "metadata": {},
   "source": [
    "# Web Scraping and cleaning\n",
    "\n",
    "In this notebook we will be scraping the data from any given url and then use cleaning methods like regular expression to remove unwanted contents from the scraped text like unwanted spaces, \\n, \\t. Remove the citation marks like [6] or (ab) so we are left with only useful text."
   ]
  },
  {
   "cell_type": "code",
   "execution_count": 8,
   "id": "a0cc755f",
   "metadata": {},
   "outputs": [],
   "source": [
    "import bs4 as bs\n",
    "import requests\n",
    "import re"
   ]
  },
  {
   "cell_type": "code",
   "execution_count": 2,
   "id": "1f664d38",
   "metadata": {},
   "outputs": [],
   "source": [
    "URL = 'https://en.wikipedia.org/wiki/Artificial_intelligence'\n",
    "html_page = requests.get(URL).text"
   ]
  },
  {
   "cell_type": "code",
   "execution_count": 3,
   "id": "fe030546",
   "metadata": {},
   "outputs": [],
   "source": [
    "soup = bs.BeautifulSoup(html_page, 'lxml')"
   ]
  },
  {
   "cell_type": "code",
   "execution_count": 4,
   "id": "847af53d",
   "metadata": {},
   "outputs": [
    {
     "data": {
      "text/plain": [
       "'Artificial intelligence'"
      ]
     },
     "execution_count": 4,
     "metadata": {},
     "output_type": "execute_result"
    }
   ],
   "source": [
    "main_heading = soup.find('h1').text\n",
    "main_heading"
   ]
  },
  {
   "cell_type": "code",
   "execution_count": 5,
   "id": "59250ea7",
   "metadata": {},
   "outputs": [
    {
     "data": {
      "text/plain": [
       "['Contents',\n",
       " 'History',\n",
       " 'Goals',\n",
       " 'Tools',\n",
       " 'Applications',\n",
       " 'Philosophy',\n",
       " 'Future',\n",
       " 'In fiction',\n",
       " 'See also',\n",
       " 'Explanatory notes',\n",
       " 'Citations',\n",
       " 'References',\n",
       " 'Further reading',\n",
       " 'External links',\n",
       " 'Sources',\n",
       " 'Navigation menu']"
      ]
     },
     "execution_count": 5,
     "metadata": {},
     "output_type": "execute_result"
    }
   ],
   "source": [
    "heading_tags = soup.find_all('h2')\n",
    "headings = []\n",
    "for heading in heading_tags:\n",
    "    h = heading.text\n",
    "    h = h.replace(\"\\n\", \"\")\n",
    "    headings.append(h)\n",
    "headings"
   ]
  },
  {
   "cell_type": "code",
   "execution_count": 6,
   "id": "38603592",
   "metadata": {},
   "outputs": [
    {
     "data": {
      "text/plain": [
       "['Reasoning, problem solving',\n",
       " 'Knowledge representation',\n",
       " 'Planning',\n",
       " 'Learning',\n",
       " 'Natural language processing',\n",
       " 'Perception',\n",
       " 'Motion and manipulation',\n",
       " 'Social intelligence',\n",
       " 'General intelligence',\n",
       " 'Search and optimization',\n",
       " 'Logic',\n",
       " 'Probabilistic methods for uncertain reasoning',\n",
       " 'Classifiers and statistical learning methods',\n",
       " 'Artificial neural networks',\n",
       " 'Specialized languages and hardware',\n",
       " 'Defining artificial intelligence',\n",
       " 'Evaluating approaches to AI',\n",
       " 'Machine consciousness, sentience and mind',\n",
       " 'Superintelligence',\n",
       " 'Risks',\n",
       " 'Ethical machines',\n",
       " 'Regulation',\n",
       " 'AI textbooks',\n",
       " 'History of AI',\n",
       " 'Other sources',\n",
       " 'Personal tools',\n",
       " 'Namespaces',\n",
       " 'Variantsexpandedcollapsed',\n",
       " 'Views',\n",
       " 'Moreexpandedcollapsed',\n",
       " 'Search',\n",
       " 'Navigation',\n",
       " 'Contribute',\n",
       " 'Tools',\n",
       " 'Print/export',\n",
       " 'In other projects',\n",
       " 'Languages']"
      ]
     },
     "execution_count": 6,
     "metadata": {},
     "output_type": "execute_result"
    }
   ],
   "source": [
    "subheading_tags = soup.find_all('h3')\n",
    "subheadings = []\n",
    "for subheading in subheading_tags:\n",
    "    s = subheading.text\n",
    "    s = s.replace(\"\\n\", \"\")\n",
    "    subheadings.append(s)\n",
    "subheadings"
   ]
  },
  {
   "cell_type": "code",
   "execution_count": 7,
   "id": "c63fb6ce",
   "metadata": {},
   "outputs": [
    {
     "name": "stdout",
     "output_type": "stream",
     "text": [
      "Early researchers developed algorithms that imitated step-by-step reasoning that humans use when they solve puzzles or make logical deductions.By the late 1980s and 1990s, AI research had developed methods for dealing with uncertain or incomplete information, employing concepts from probability and economics.\n"
     ]
    }
   ],
   "source": [
    "para_tags = soup.find_all('p')\n",
    "content = []\n",
    "citation_pattern = r\"([\\[]\\w*|[\\]])\"\n",
    "for para in para_tags:\n",
    "    p = para.text\n",
    "    p = p.replace(\"\\n\", \"\")\n",
    "    p = re.sub(citation_pattern, \"\", p)\n",
    "    if(p):\n",
    "        content.append(p)\n",
    "print(content[18])"
   ]
  },
  {
   "cell_type": "markdown",
   "id": "839bce4d",
   "metadata": {},
   "source": [
    "## Making it into a function"
   ]
  },
  {
   "cell_type": "code",
   "execution_count": 8,
   "id": "8f75cb22",
   "metadata": {},
   "outputs": [],
   "source": [
    "def get_content(URL):\n",
    "    html_page = requests.get(URL).text\n",
    "    soup = bs.BeautifulSoup(html_page, 'lxml')\n",
    "    main_tags = soup.find_all('h1')\n",
    "    main_headings = []\n",
    "#     spaces_pattern = r\"(  |\\r|\\n|\\t)\"\n",
    "    space_pattern = r'\\s+'\n",
    "    for main in main_tags:\n",
    "        m = main.text\n",
    "        m = re.sub(spaces_pattern, \"\", m)\n",
    "        main_headings.append(m)\n",
    "    \n",
    "    heading_tags = soup.find_all('h2')\n",
    "    headings = []\n",
    "    for heading in heading_tags:\n",
    "        h = heading.text\n",
    "        h = re.sub(spaces_pattern, \"\", h)\n",
    "        headings.append(h)\n",
    "    \n",
    "    subheading_tags = soup.find_all('h3')\n",
    "    subheadings = []\n",
    "    for subheading in subheading_tags:\n",
    "        s = subheading.text\n",
    "        s = re.sub(spaces_pattern, \"\", s)\n",
    "        subheadings.append(s)\n",
    "    \n",
    "    para_tags = soup.find_all('p')\n",
    "    content = []\n",
    "#     citation_pattern = r\"([\\[]\\w*|[\\]])|([\\(]\\w*|[\\)])\"\n",
    "    citation_pattern = r'\\[[0-9a-zA-Z]*\\]'\n",
    "    for para in para_tags:\n",
    "        p = para.text\n",
    "        p = re.sub(spaces_pattern, \"\", p)\n",
    "        p = re.sub(citation_pattern, \"\", p)\n",
    "        if(p):\n",
    "            content.append(p)\n",
    "    \n",
    "    return (main_headings, headings, subheadings, content)"
   ]
  },
  {
   "cell_type": "code",
   "execution_count": 9,
   "id": "db0e37c0",
   "metadata": {},
   "outputs": [],
   "source": [
    "data = get_content('https://www.frontiersin.org/articles/10.3389/fpubh.2020.00014/full')"
   ]
  },
  {
   "cell_type": "code",
   "execution_count": 10,
   "id": "b4a40ade",
   "metadata": {},
   "outputs": [
    {
     "data": {
      "text/plain": [
       "'The interactions between humans and their physical surroundings have been extensively studied, as multiple human activities influence the environment. The environment is a coupling of the biotic  organisms and microorganisms and the abiotic , lithosphere, and atmosphere.'"
      ]
     },
     "execution_count": 10,
     "metadata": {},
     "output_type": "execute_result"
    }
   ],
   "source": [
    "data[3][9]"
   ]
  },
  {
   "cell_type": "code",
   "execution_count": 21,
   "id": "fc98b654",
   "metadata": {},
   "outputs": [],
   "source": [
    "def clean_text(text):\n",
    "    space_pattern = r\"(  |\\r|\\n|\\t)\"\n",
    "    citation_pattern = r'\\[[0-9a-zA-Z]*\\]'\n",
    "    text = re.sub(space_pattern, \"\", text)\n",
    "    text = re.sub(citation_pattern, \"\", text)\n",
    "    \n",
    "    return text"
   ]
  },
  {
   "cell_type": "code",
   "execution_count": 22,
   "id": "5e4fe572",
   "metadata": {},
   "outputs": [],
   "source": [
    "temp = '''Direct Automatic Generation of Mind Maps from text with M2Gen  M. Abdeen, R. El-Sahan, A. Ismaeil, S. El-Harouny, M. Shalaby The Faculty of Computers and Information Sciences Ain-Shams University Cairo, Egypt mabdeen@alumni.uottawa.ca M. C.E. Yagoub  The school of Information Technology and Engineering University of Ottawa Ottawa, Ontario,  myagoub@site.uottawa.ca  Abstract—A  mind  map  is  a  diagram  used  to  represent  words, ideas,  or  other  items  linked  to  and  arranged  around  a  central keyword  or  idea.  Mind  maps  are  used  to  generate,  visualize, structure, and classify ideas, and as an aid in organization, study, project  management,    problem  solving,  decision  making,  and writing.  It  has  been  long  used  in  brainstorming  and  as  an effective educational tool. There are numerous tools in the  market, either  as freeware or as proprietary  software,  that  help  users  generate  mind  maps.. However,  these  tools  are  more  of  mind  map  “editing”  tools  to help  users  project  their  ideas  from  their  minds  into  the  tool mapping space. These tools also provide a comprehensive library of images that  suits  the most popular mind map  types.  The tools act  as  the  media  into  which  users  projects  the  maps  that  has already more-or-less matured in their minds. In  this  work,  we  present  a  software  tool  that  automatically generates  mind  maps  directly  from  text.  This  tool  provides  a prospect  to  transform  many  literatures automatically  into  mind maps. One  significant  application  of  this tool is education. Many students  finds  it  easier  to  follow  and  remember  information presented in the mid map form rather than pure text.  Keywords- text processing; semantic analysis; web mining. I. INTRODUCTION Mind mapping is a popular brainstorming tool and thinking technique  of  visually  arranging  ideas  and  their interconnections.  It  is  a  way  of  representing  associated thoughts with symbols rather than with extraneous words. The human  mind  forms  associations  almost  instantaneously,  and \"mapping\"  allows  capturing  these  ideas  quicker  than expressing them using only words or phrases. Originated  in  the  late  1960s  by  Tony  Buzan,   [1]  mind mapping  harnesses  the  full  range  of  cortical  skills  -  word, image, number, logic, rhythm, color and spatial awareness - in a single, uniquely powerful manner. In so doing, mind mapping gives the freedom to roam the infinite expanses of your brain. It is now used by millions of people around the world. A  mind  map  is  a diagram  used  to  represent  words, ideas, tasks, or  other  items linked  to  and  arranged  radially  around  a central  keyword.  As  an  example,   0  depicts  a  mind  map  of Google tools.  Figure 1   Google tools mind map  Manually  constructing  mind  maps  requires  thorough reading  and  good  understanding  the  text  which  takes  much time  and  effort.  In  addition  to  that  not  all  people  are  creative enough to  draw  elegant and expressive mind maps. Therefore, automatically  generating  mind  maps  saves  much  time  and effort and serves better and quicker various applications. Mind  mapping  applications  are  numerous.  Organizing, meetings, planning, note taking, presentation, and  above all, in education  [2]. There are  numerous tools in the market, either  as  freeware or as proprietary software, that help users generate mind maps. Wisemapping and Mindomo  [3] are  examples  of  the  freeware and Buzan’s iMindMap and Inspiration  [4] are examples of the proprietary ones. These softwares help the user in drawing the mind map and have some ready designs and diagrams which can be used. But the user must read, understand the text well and come up with a design for the mind map himself. Automatically  generating  mind  maps  out  of  pure  text requires  many  stages  of  text  processing.  In  the  following sections, we provide details of the main modules of the tool and the stages used to produce the final mind map.  TIC-STH 2009978-1-4244-3878-5/09/$25.00 ©2009 IEEE 95\n",
    "II.'''"
   ]
  },
  {
   "cell_type": "code",
   "execution_count": 23,
   "id": "4cc0c4fc",
   "metadata": {},
   "outputs": [
    {
     "data": {
      "text/plain": [
       "'Direct Automatic Generation of Mind Maps from text with M2Gen  M. Abdeen, R. El-Sahan, A. Ismaeil, S. El-Harouny, M. Shalaby The Faculty of Computers and Information Sciences Ain-Shams University Cairo, Egypt mabdeen@alumni.uottawa.ca M. C.E. Yagoub  The school of Information Technology and Engineering University of Ottawa Ottawa, Ontario,  myagoub@site.uottawa.ca  Abstract—A  mind  map  is  a  diagram  used  to  represent  words, ideas,  or  other  items  linked  to  and  arranged  around  a  central keyword  or  idea.  Mind  maps  are  used  to  generate,  visualize, structure, and classify ideas, and as an aid in organization, study, project  management,    problem  solving,  decision  making,  and writing.  It  has  been  long  used  in  brainstorming  and  as  an effective educational tool. There are numerous tools in the  market, either  as freeware or as proprietary  software,  that  help  users  generate  mind  maps.. However,  these  tools  are  more  of  mind  map  “editing”  tools  to help  users  project  their  ideas  from  their  minds  into  the  tool mapping space. These tools also provide a comprehensive library of images that  suits  the most popular mind map  types.  The tools act  as  the  media  into  which  users  projects  the  maps  that  has already more-or-less matured in their minds. In  this  work,  we  present  a  software  tool  that  automatically generates  mind  maps  directly  from  text.  This  tool  provides  a prospect  to  transform  many  literatures automatically  into  mind maps. One  significant  application  of  this tool is education. Many students  finds  it  easier  to  follow  and  remember  information presented in the mid map form rather than pure text.  Keywords- text processing; semantic analysis; web mining. I. INTRODUCTION Mind mapping is a popular brainstorming tool and thinking technique  of  visually  arranging  ideas  and  their interconnections.  It  is  a  way  of  representing  associated thoughts with symbols rather than with extraneous words. The human  mind  forms  associations  almost  instantaneously,  and \"mapping\"  allows  capturing  these  ideas  quicker  than expressing them using only words or phrases. Originated  in  the  late  1960s  by  Tony  Buzan,   [1]  mind mapping  harnesses  the  full  range  of  cortical  skills  -  word, image, number, logic, rhythm, color and spatial awareness - in a single, uniquely powerful manner. In so doing, mind mapping gives the freedom to roam the infinite expanses of your brain. It is now used by millions of people around the world. A  mind  map  is  a diagram  used  to  represent  words, ideas, tasks, or  other  items linked  to  and  arranged  radially  around  a central  keyword.  As  an  example,   0  depicts  a  mind  map  of Google tools.  Figure 1   Google tools mind map  Manually  constructing  mind  maps  requires  thorough reading  and  good  understanding  the  text  which  takes  much time  and  effort.  In  addition  to  that  not  all  people  are  creative enough to  draw  elegant and expressive mind maps. Therefore, automatically  generating  mind  maps  saves  much  time  and effort and serves better and quicker various applications. Mind  mapping  applications  are  numerous.  Organizing, meetings, planning, note taking, presentation, and  above all, in education  [2]. There are  numerous tools in the market, either  as  freeware or as proprietary software, that help users generate mind maps. Wisemapping and Mindomo  [3] are  examples  of  the  freeware and Buzan’s iMindMap and Inspiration  [4] are examples of the proprietary ones. These softwares help the user in drawing the mind map and have some ready designs and diagrams which can be used. But the user must read, understand the text well and come up with a design for the mind map himself. Automatically  generating  mind  maps  out  of  pure  text requires  many  stages  of  text  processing.  In  the  following sections, we provide details of the main modules of the tool and the stages used to produce the final mind map.  TIC-STH 2009978-1-4244-3878-5/09/$25.00 ©2009 IEEE 95\\nII.'"
      ]
     },
     "execution_count": 23,
     "metadata": {},
     "output_type": "execute_result"
    }
   ],
   "source": [
    "temp"
   ]
  },
  {
   "cell_type": "code",
   "execution_count": 17,
   "id": "cd86a8cc",
   "metadata": {},
   "outputs": [
    {
     "data": {
      "text/plain": [
       "'Direct Automatic Generation of Mind Maps from text with M2GenM. Abdeen, R. El-Sahan, A. Ismaeil, S. El-Harouny, M. Shalaby The Faculty of Computers and Information Sciences Ain-Shams University Cairo, Egypt mabdeen@alumni.uottawa.ca M. C.E. YagoubThe school of Information Technology and Engineering University of Ottawa Ottawa, Ontario,myagoub@site.uottawa.caAbstract—Amindmapisadiagramusedtorepresentwords, ideas,orotheritemslinkedtoandarrangedaroundacentral keywordoridea.Mindmapsareusedtogenerate,visualize, structure, and classify ideas, and as an aid in organization, study, projectmanagement,problemsolving,decisionmaking,and writing.Ithasbeenlongusedinbrainstormingandasan effective educational tool. There are numerous tools in themarket, eitheras freeware or as proprietarysoftware,thathelpusersgeneratemindmaps.. However,thesetoolsaremoreofmindmap“editing”toolsto helpusersprojecttheirideasfromtheirmindsintothetool mapping space. These tools also provide a comprehensive library of images thatsuitsthe most popular mind maptypes.The tools actasthemediaintowhichusersprojectsthemapsthathas already more-or-less matured in their minds. Inthiswork,wepresentasoftwaretoolthatautomatically generatesmindmapsdirectlyfromtext.Thistoolprovidesa prospecttotransformmanyliteratures automaticallyintomind maps. Onesignificantapplicationofthis tool is education. Many studentsfindsiteasiertofollowandrememberinformation presented in the mid map form rather than pure text.Keywords- text processing; semantic analysis; web mining. I. INTRODUCTION Mind mapping is a popular brainstorming tool and thinking techniqueofvisuallyarrangingideasandtheir interconnections.Itisawayofrepresentingassociated thoughts with symbols rather than with extraneous words. The humanmindformsassociationsalmostinstantaneously,and \"mapping\"allowscapturingtheseideasquickerthan expressing them using only words or phrases. Originatedinthelate1960sbyTonyBuzan, mind mappingharnessesthefullrangeofcorticalskills-word, image, number, logic, rhythm, color and spatial awareness - in a single, uniquely powerful manner. In so doing, mind mapping gives the freedom to roam the infinite expanses of your brain. It is now used by millions of people around the world. Amindmapisa diagramusedtorepresentwords, ideas, tasks, orotheritems linkedtoandarrangedradiallyarounda centralkeyword.Asanexample, 0depictsamindmapof Google tools.Figure 1 Google tools mind mapManuallyconstructingmindmapsrequiresthorough readingandgoodunderstandingthetextwhichtakesmuch timeandeffort.Inadditiontothatnotallpeoplearecreative enough todrawelegant and expressive mind maps. Therefore, automaticallygeneratingmindmapssavesmuchtimeand effort and serves better and quicker various applications. Mindmappingapplicationsarenumerous.Organizing, meetings, planning, note taking, presentation, andabove all, in education. There arenumerous tools in the market, eitherasfreeware or as proprietary software, that help users generate mind maps. Wisemapping and Mindomo areexamplesofthefreeware and Buzan’s iMindMap and Inspiration are examples of the proprietary ones. These softwares help the user in drawing the mind map and have some ready designs and diagrams which can be used. But the user must read, understand the text well and come up with a design for the mind map himself. Automaticallygeneratingmindmapsoutofpuretext requiresmanystagesoftextprocessing.Inthefollowing sections, we provide details of the main modules of the tool and the stages used to produce the final mind map.TIC-STH 2009978-1-4244-3878-5/09/$25.00 ©2009 IEEE 95II.'"
      ]
     },
     "execution_count": 17,
     "metadata": {},
     "output_type": "execute_result"
    }
   ],
   "source": [
    "clean_text(temp)"
   ]
  },
  {
   "cell_type": "code",
   "execution_count": null,
   "id": "1a42aa52",
   "metadata": {},
   "outputs": [],
   "source": []
  }
 ],
 "metadata": {
  "kernelspec": {
   "display_name": "Python 3 (ipykernel)",
   "language": "python",
   "name": "python3"
  },
  "language_info": {
   "codemirror_mode": {
    "name": "ipython",
    "version": 3
   },
   "file_extension": ".py",
   "mimetype": "text/x-python",
   "name": "python",
   "nbconvert_exporter": "python",
   "pygments_lexer": "ipython3",
   "version": "3.9.12"
  }
 },
 "nbformat": 4,
 "nbformat_minor": 5
}
